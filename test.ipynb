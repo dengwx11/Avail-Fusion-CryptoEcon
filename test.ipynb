{
 "cells": [
  {
   "cell_type": "code",
   "execution_count": 1,
   "metadata": {},
   "outputs": [],
   "source": [
    "from model.agents_class import *\n",
    "from model.rewards import calculate_reward_allocation"
   ]
  },
  {
   "cell_type": "code",
   "execution_count": 3,
   "metadata": {},
   "outputs": [
    {
     "name": "stdout",
     "output_type": "stream",
     "text": [
      "0.14285714285714285\n",
      "0.8571428571428571\n",
      "0.125\n",
      "0.875\n"
     ]
    }
   ],
   "source": [
    "# Initialize agent with starting allocations\n",
    "agent = AgentStake(assets={\n",
    "    'AVL': AssetAllocation(pct=0.0, balance=10000, price=0.1),\n",
    "    'ETH': AssetAllocation(pct=0.0, balance=2, price=3000)\n",
    "})\n",
    "\n",
    "# Initial percentages will auto-update\n",
    "print(agent.assets['AVL'].pct)  # 0.25 (10000*0.1=1000 TVL)\n",
    "print(agent.assets['ETH'].pct)  # 0.75 (2*3000=6000 TVL)\n",
    "\n",
    "# Update ETH price and see percentages change\n",
    "agent.update_asset('ETH', price=3500)\n",
    "print(agent.assets['AVL'].pct)  # 0.125 (1000 vs 7000 TVL)\n",
    "print(agent.assets['ETH'].pct)  # 0.875"
   ]
  },
  {
   "cell_type": "code",
   "execution_count": 4,
   "metadata": {},
   "outputs": [],
   "source": [
    "# Create agents with 60% AVL, 30% ETH, 10% BTC allocation\n",
    "agents = AgentStake.create_maxi_agents(\n",
    "    target_composition={'AVL': 0.6, 'ETH': 0.3, 'BTC': 0.1},\n",
    "    total_tvl=1_000_000  # $1M total TVL\n",
    ")\n",
    "\n",
    "# Access individual agents\n",
    "avl_maxi = agents['avl_maxi']\n",
    "eth_maxi = agents['eth_maxi']\n",
    "btc_maxi = agents['btc_maxi']"
   ]
  },
  {
   "cell_type": "code",
   "execution_count": 5,
   "metadata": {},
   "outputs": [
    {
     "name": "stdout",
     "output_type": "stream",
     "text": [
      "600000.0\n",
      "300000.0\n",
      "0.12\n",
      "3300\n",
      "720000.0\n",
      "330000.0\n"
     ]
    }
   ],
   "source": [
    "# Create agents\n",
    "agents = AgentStake.create_maxi_agents(\n",
    "    target_composition={'AVL': 0.6, 'ETH': 0.3, 'BTC': 0.1},\n",
    "    total_tvl=1_000_000  # $1M total TVL\n",
    ")\n",
    "\n",
    "print(agents['avl_maxi'].assets['AVL'].tvl)  # 0.12\n",
    "print(agents['eth_maxi'].assets['ETH'].tvl)  # 3300\n",
    "\n",
    "\n",
    "# Update prices\n",
    "AgentStake.update_agent_prices(\n",
    "    agents,\n",
    "    avl_price=0.12,  # 20% increase\n",
    "    eth_price=3300    # 10% increase\n",
    ")\n",
    "\n",
    "# Verify updates\n",
    "print(agents['avl_maxi'].assets['AVL'].price)  # 0.12\n",
    "print(agents['eth_maxi'].assets['ETH'].price)  # 3300\n",
    "print(agents['avl_maxi'].assets['AVL'].tvl)  # 0.12\n",
    "print(agents['eth_maxi'].assets['ETH'].tvl)  # 3300\n",
    "\n",
    "\n"
   ]
  },
  {
   "cell_type": "code",
   "execution_count": 9,
   "metadata": {},
   "outputs": [
    {
     "name": "stdout",
     "output_type": "stream",
     "text": [
      "0.0\n",
      "0.0\n",
      "0.0\n",
      "0.0\n"
     ]
    }
   ],
   "source": [
    "# 1. Create maxi agents with desired composition\n",
    "agents = AgentStake.create_maxi_agents(\n",
    "    target_composition={'AVL': 1, 'ETH': 0, 'BTC': 0},  # 50% AVL, 30% ETH, 20% BTC\n",
    "    total_tvl=0  # $1M total TVL\n",
    ")\n",
    "\n",
    "# 2. Calculate combined TVL using static method\n",
    "combined_tvl = AgentStake.total_combined_tvl(agents)\n",
    "\n",
    "# Alternatively, access individual agent TVLs:\n",
    "avl_maxi_tvl = agents['avl_maxi'].total_tvl\n",
    "eth_maxi_tvl = agents['eth_maxi'].total_tvl\n",
    "btc_maxi_tvl = agents['btc_maxi'].total_tvl\n",
    "\n",
    "print(combined_tvl)\n",
    "print(avl_maxi_tvl)\n",
    "print(eth_maxi_tvl)\n",
    "print(btc_maxi_tvl)\n",
    "\n"
   ]
  },
  {
   "cell_type": "code",
   "execution_count": 4,
   "metadata": {},
   "outputs": [
    {
     "name": "stdout",
     "output_type": "stream",
     "text": [
      "fusion_pct: 0.38419117647058826\n",
      "{'init_inflation_rate': 0.034, 'fusion_allocation_pct': 0.38419117647058826, 'avl_rewards_pct': 0.4306220095693779, 'total_inflation_rewards': 34000000.0, 'required_rewards': 13062500.0, 'avl_rewards': 5625000.0, 'eth_rewards': 7437500.000000001, 'capped': False}\n"
     ]
    },
    {
     "ename": "AssertionError",
     "evalue": "",
     "output_type": "error",
     "traceback": [
      "\u001b[0;31m---------------------------------------------------------------------------\u001b[0m",
      "\u001b[0;31mAssertionError\u001b[0m                            Traceback (most recent call last)",
      "Cell \u001b[0;32mIn[4], line 20\u001b[0m\n\u001b[1;32m      9\u001b[0m result \u001b[38;5;241m=\u001b[39m calculate_reward_allocation(\n\u001b[1;32m     10\u001b[0m     constants\u001b[38;5;241m=\u001b[39mconstants,\n\u001b[1;32m     11\u001b[0m     avl_price\u001b[38;5;241m=\u001b[39m\u001b[38;5;241m0.1\u001b[39m,\n\u001b[0;32m   (...)\u001b[0m\n\u001b[1;32m     15\u001b[0m     target_eth_yield\u001b[38;5;241m=\u001b[39m\u001b[38;5;241m0.035\u001b[39m\n\u001b[1;32m     16\u001b[0m )\n\u001b[1;32m     18\u001b[0m \u001b[38;5;28mprint\u001b[39m(result)\n\u001b[0;32m---> 20\u001b[0m \u001b[38;5;28;01massert\u001b[39;00m result[\u001b[38;5;124m\"\u001b[39m\u001b[38;5;124mcapped\u001b[39m\u001b[38;5;124m\"\u001b[39m] \u001b[38;5;241m==\u001b[39m \u001b[38;5;28;01mTrue\u001b[39;00m\n\u001b[1;32m     21\u001b[0m \u001b[38;5;66;03m#assert abs(result[\"fusion_allocation_pct\"] - 0.3) < 1e-6\u001b[39;00m\n\u001b[1;32m     22\u001b[0m \u001b[38;5;66;03m#assert abs(result[\"avl_rewards\"] + result[\"eth_rewards\"] - 0.3*1e9*0.05) < 1\u001b[39;00m\n",
      "\u001b[0;31mAssertionError\u001b[0m: "
     ]
    }
   ],
   "source": [
    "# Test case where cap is needed\n",
    "constants = {\n",
    "    \"upper_rewards_to_fusion_pct\": 0.4,\n",
    "    \"native_staking_ratio\": 0.3,\n",
    "    \"inflation_decay\": 0.05,\n",
    "    \"init_total_fdv\": 1e9\n",
    "}\n",
    "\n",
    "result = calculate_reward_allocation(\n",
    "    constants=constants,\n",
    "    avl_price=0.1,\n",
    "    total_tvl=250e6,\n",
    "    avl_stake_pct=0.15,\n",
    "    target_avl_yield=0.15,\n",
    "    target_eth_yield=0.035\n",
    ")\n",
    "\n",
    "print(result)\n",
    "\n",
    "assert result[\"capped\"] == True\n",
    "#assert abs(result[\"fusion_allocation_pct\"] - 0.3) < 1e-6\n",
    "#assert abs(result[\"avl_rewards\"] + result[\"eth_rewards\"] - 0.3*1e9*0.05) < 1\n",
    "\n",
    "\n",
    "\n"
   ]
  },
  {
   "cell_type": "code",
   "execution_count": null,
   "metadata": {},
   "outputs": [],
   "source": []
  }
 ],
 "metadata": {
  "kernelspec": {
   "display_name": "venv",
   "language": "python",
   "name": "python3"
  },
  "language_info": {
   "codemirror_mode": {
    "name": "ipython",
    "version": 3
   },
   "file_extension": ".py",
   "mimetype": "text/x-python",
   "name": "python",
   "nbconvert_exporter": "python",
   "pygments_lexer": "ipython3",
   "version": "3.9.6"
  }
 },
 "nbformat": 4,
 "nbformat_minor": 2
}
