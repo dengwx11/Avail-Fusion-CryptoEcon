{
 "cells": [
  {
   "cell_type": "code",
   "execution_count": 1,
   "metadata": {},
   "outputs": [],
   "source": [
    "import secrets\n",
    "import pandas as pd\n",
    "import numpy as np # type: ignore\n",
    "import seaborn as sns\n",
    "import plotly.io as pio\n",
    "\n",
    "from radcad import Model, Simulation, Experiment\n",
    "from radcad.engine import Engine, Backend\n",
    "from random import randint, uniform\n",
    "\n",
    "sns.set(style=\"whitegrid\")"
   ]
  },
  {
   "cell_type": "code",
   "execution_count": 2,
   "metadata": {},
   "outputs": [],
   "source": [
    "from dataclasses import dataclass, field\n",
    "from typing import TypedDict, List, Callable, NamedTuple\n",
    "\n",
    "\n",
    "from model.utils import default, update_from_signal\n",
    "import visualizations"
   ]
  },
  {
   "cell_type": "code",
   "execution_count": 3,
   "metadata": {},
   "outputs": [],
   "source": [
    "import model.basic_model as basic_model\n",
    "import model.agents as agents\n",
    "from model.stochastic_processes import (\n",
    "    create_stochastic_avail_price_process,\n",
    "    plot_price,\n",
    ")\n",
    "from model.agents_class import Stake\n",
    "\n",
    "from real_data_fetcher import fetch"
   ]
  },
  {
   "cell_type": "code",
   "execution_count": 4,
   "metadata": {},
   "outputs": [],
   "source": [
    "# types\n",
    "Run = int\n",
    "Timestep = int"
   ]
  },
  {
   "cell_type": "markdown",
   "metadata": {},
   "source": [
    "# Price Traj Generation"
   ]
  },
  {
   "cell_type": "code",
   "execution_count": 5,
   "metadata": {},
   "outputs": [],
   "source": [
    "# avl_price_samples = create_stochastic_avail_price_process(price_traj_type = 'concave',minimum_avl_price=0.05, target_avg=0.1, maximum_avl_price=1.0,)\n",
    "# plot_price(avl_price_samples) \n",
    "# print(min(avl_price_samples))\n",
    "\n",
    "# eth_price_samples = create_stochastic_avail_price_process(price_traj_type = 'concave', minimum_avl_price=1500,target_avg=2500, maximum_avl_price=3000)\n",
    "# plot_price(eth_price_samples) \n",
    "# print(min(eth_price_samples))"
   ]
  },
  {
   "cell_type": "code",
   "execution_count": 6,
   "metadata": {},
   "outputs": [
    {
     "data": {
      "image/png": "[encoded data removed]",
      "text/plain": [
       "<Figure size 432x288 with 1 Axes>"
      ]
     },
     "metadata": {
      "needs_background": "light"
     },
     "output_type": "display_data"
    },
    {
     "name": "stdout",
     "output_type": "stream",
     "text": [
      "0.0142976363755497\n"
     ]
    },
    {
     "data": {
      "image/png": "[encoded data removed]",
      "text/plain": [
       "<Figure size 432x288 with 1 Axes>"
      ]
     },
     "metadata": {
      "needs_background": "light"
     },
     "output_type": "display_data"
    },
    {
     "name": "stdout",
     "output_type": "stream",
     "text": [
      "2395.9472139132804\n"
     ]
    }
   ],
   "source": [
    "avl_price_samples, eth_price_samples, Timestep = fetch(symbol_avl='act')\n",
    "\n",
    "plot_price(avl_price_samples) \n",
    "print(min(avl_price_samples))\n",
    "\n",
    "plot_price(eth_price_samples) \n",
    "print(min(eth_price_samples))"
   ]
  },
  {
   "cell_type": "markdown",
   "metadata": {},
   "source": [
    "# Setup"
   ]
  },
  {
   "cell_type": "code",
   "execution_count": 7,
   "metadata": {},
   "outputs": [],
   "source": [
    "constants = {\n",
    "}"
   ]
  },
  {
   "cell_type": "code",
   "execution_count": 8,
   "metadata": {},
   "outputs": [
    {
     "name": "stdout",
     "output_type": "stream",
     "text": [
      "0.031771895266071\n"
     ]
    }
   ],
   "source": [
    "AVL_initial_price = avl_price_samples[0]\n",
    "ETH_initial_price = eth_price_samples[0]\n",
    "print(AVL_initial_price)"
   ]
  },
  {
   "cell_type": "code",
   "execution_count": 9,
   "metadata": {},
   "outputs": [],
   "source": [
    "ETH_upper_security_pct = [.4]\n",
    "stETH_upper_security_pct = [.4]\n",
    "AVL_upper_security_pct = [.2]"
   ]
  },
  {
   "cell_type": "markdown",
   "metadata": {},
   "source": [
    "# Simulation"
   ]
  },
  {
   "cell_type": "code",
   "execution_count": 11,
   "metadata": {},
   "outputs": [],
   "source": [
    "init_agent_eth_alloc = [1, 0, 0]\n",
    "init_agent_steth_alloc = [0, 1, 0]\n",
    "init_agent_avl_alloc = [1 - i - j for i, j in zip(init_agent_eth_alloc, init_agent_steth_alloc)]\n",
    "agents_composition = [ETH_upper_security_pct[0],AVL_upper_security_pct[0]] # sum = 1"
   ]
  },
  {
   "cell_type": "code",
   "execution_count": 13,
   "metadata": {},
   "outputs": [
    {
     "name": "stdout",
     "output_type": "stream",
     "text": [
      "ETH Vector: [1, 1, 1, 1, 1, 0, 0, 0]\n",
      "stETH Vector: [0, 0, 0, 0, 0, 1, 1, 1]\n",
      "BTC Vector: [0, 0, 0, 0, 0, 0, 0, 0]\n"
     ]
    }
   ],
   "source": [
    "def create_maxi_agents(agent_vanilla_num, agent_drift_num):\n",
    "    # Initialize the indicator vectors\n",
    "    eth_vector = [1 if i < agent_vanilla_num else 0 for i in range(agent_vanilla_num + agent_drift_num)]\n",
    "    steth_vector = [1 if i >= agent_vanilla_num and i < agent_vanilla_num + agent_drift_num else 0 for i in range(agent_vanilla_num + agent_drift_num)]\n",
    "    btc_vector = [0] * (agent_vanilla_num + agent_drift_num)  # Assuming no BTC staking agents for simplicity\n",
    "\n",
    "    return eth_vector, steth_vector, btc_vector\n",
    "\n",
    "# Example usage\n",
    "agent_vanilla_num = 5\n",
    "agent_drift_num = 3\n",
    "eth_vector, steth_vector, btc_vector = create_maxi_agents(agent_vanilla_num, agent_drift_num)\n",
    "\n",
    "print(\"ETH Vector:\", eth_vector)\n",
    "print(\"stETH Vector:\", steth_vector)\n",
    "print(\"BTC Vector:\", btc_vector)"
   ]
  },
  {
   "cell_type": "code",
   "execution_count": 33,
   "metadata": {},
   "outputs": [
    {
     "name": "stdout",
     "output_type": "stream",
     "text": [
      "52953158.77678499\n"
     ]
    }
   ],
   "source": [
    "init_AVL_price = AVL_initial_price\n",
    "init_fdv = 10000000000 * init_AVL_price\n",
    "init_inflation_rate = 4\n",
    "init_rewards_allocation = 57.5\n",
    "init_target_avg_yield = 13.8\n",
    "init_total_inflation_rewards = init_fdv * init_inflation_rate /100\n",
    "init_total_annual_rewards_fusion = init_total_inflation_rewards * init_rewards_allocation / 100\n",
    "\n",
    "\n",
    "init_target_total_security = init_total_annual_rewards_fusion * 100 / init_target_avg_yield\n",
    "\n",
    "print(init_target_total_security)"
   ]
  },
  {
   "cell_type": "code",
   "execution_count": 34,
   "metadata": {},
   "outputs": [
    {
     "name": "stdout",
     "output_type": "stream",
     "text": [
      "[0.0, 0.2] [0.8, 0.0]\n",
      "[0.0, 1.0]\n",
      "[1.0, 0.0]\n",
      "[np.float64(0.0), np.float64(333333333.3333333)]\n",
      "[np.float64(16783.194921057155), np.float64(0.0)]\n"
     ]
    }
   ],
   "source": [
    "init_AVL_security_pct = [ i*j for i,j in zip(init_agent_avl_alloc, agents_composition)]\n",
    "init_ETH_security_pct = [ i*j for i,j in zip(init_agent_eth_alloc, agents_composition)]\n",
    "\n",
    "print(init_AVL_security_pct, init_ETH_security_pct)\n",
    "\n",
    "init_total_AVL_security_pct = sum(init_AVL_security_pct)\n",
    "init_total_ETH_security_pct = sum(init_ETH_security_pct)\n",
    "\n",
    "print([i/init_total_AVL_security_pct for i in init_AVL_security_pct])\n",
    "print([i/init_total_ETH_security_pct for i in init_ETH_security_pct])\n",
    "\n",
    "\n",
    "agents_avl_balance = [init_target_total_security * pct / AVL_initial_price for pct in init_AVL_security_pct]\n",
    "agents_eth_balance = [init_target_total_security * pct / ETH_initial_price for pct in init_ETH_security_pct]\n",
    "\n",
    "print(agents_avl_balance)\n",
    "print(agents_eth_balance)"
   ]
  },
  {
   "cell_type": "code",
   "execution_count": 35,
   "metadata": {},
   "outputs": [
    {
     "name": "stdout",
     "output_type": "stream",
     "text": [
      "  Agent ETH Allocation % Agent AVL Allocation %\n",
      "0                100.00%                  0.00%\n",
      "1                  0.00%                100.00%\n",
      "  AVL Security % ETH Security %\n",
      "0          0.00%        100.00%\n",
      "1        100.00%          0.00%\n",
      "  User Total Proportion\n",
      "0                80.00%\n",
      "1                20.00%\n",
      "    Total Security %\n",
      "AVL              20%\n",
      "ETH              80%\n"
     ]
    }
   ],
   "source": [
    "df = pd.DataFrame({\n",
    "    'Agent ETH Allocation %': init_agent_eth_alloc,\n",
    "    'Agent AVL Allocation %': init_agent_avl_alloc\n",
    "})\n",
    "df['Agent ETH Allocation %'] = df['Agent ETH Allocation %'].apply(lambda x: f\"{x:.2%}\")\n",
    "df['Agent AVL Allocation %'] = df['Agent AVL Allocation %'].apply(lambda x: f\"{x:.2%}\")\n",
    "print(df)\n",
    "\n",
    "\n",
    "avl_normalized = [i / sum(init_AVL_security_pct) for i in init_AVL_security_pct]\n",
    "eth_normalized = [i / sum(init_ETH_security_pct) for i in init_ETH_security_pct]\n",
    "\n",
    "df = pd.DataFrame({\n",
    "    'AVL Security %': avl_normalized,\n",
    "    'ETH Security %': eth_normalized\n",
    "})\n",
    "df['AVL Security %'] = df['AVL Security %'].apply(lambda x: f\"{x:.2%}\")\n",
    "df['ETH Security %'] = df['ETH Security %'].apply(lambda x: f\"{x:.2%}\")\n",
    "print(df)\n",
    "\n",
    "\n",
    "df = pd.DataFrame({\n",
    "    'User Total Proportion': agents_composition\n",
    "})\n",
    "df['User Total Proportion'] = df['User Total Proportion'].apply(lambda x: f\"{x:.2%}\")\n",
    "print(df)\n",
    "\n",
    "\n",
    "df = pd.DataFrame({\n",
    "    'Total Security %': [init_total_AVL_security_pct*100, init_total_ETH_security_pct*100]\n",
    "}, index=['AVL', 'ETH'])\n",
    "df['Total Security %'] = df['Total Security %'].apply(lambda x: f\"{x:.0f}%\")\n",
    "print(df)"
   ]
  },
  {
   "cell_type": "code",
   "execution_count": 36,
   "metadata": {},
   "outputs": [],
   "source": [
    "@dataclass\n",
    "class FusionParams:\n",
    "    # TODO: Set a AVL amount budget cap\n",
    "    AVL_upper_budget_cap = 1.12e8\n",
    "    ETH_upper_budget_cap = 2.08e8\n",
    "\n",
    "\n",
    "    avl_price_process:  List[Callable[[Run, Timestep], float]] = default(\n",
    "        [lambda run, timestep: avl_price_samples[timestep]]\n",
    "    )\n",
    "    eth_price_process:  List[Callable[[Run, Timestep], float]] = default(\n",
    "        [lambda run, timestep: eth_price_samples[timestep]]\n",
    "    )\n",
    "\n",
    "    # inlation % on AVL\n",
    "    inflation_rate: List[float] = default([init_inflation_rate])\n",
    "\n",
    "\n",
    "    # Reward Allocation to Pools\n",
    "    ETH_reward_pct: List[float] = default([90])\n",
    "    AVL_reward_pct: List[float] = default([10])\n",
    "\n",
    "\n",
    "    # % of Fusion Security Standard met by ETH Stake\n",
    "    # TODO: implementation\n",
    "    ETH_upper_security_pct: List[float] = field(default_factory=lambda: ETH_upper_security_pct)\n",
    "    AVL_upper_security_pct: List[float] = field(default_factory=lambda: AVL_upper_security_pct)\n",
    "\n",
    "\n",
    "\n",
    "    # Agents\n",
    "    ETH_agent_allocation: List[List[float]] = default([\n",
    "        init_agent_eth_alloc\n",
    "    ])\n",
    "    AVL_agent_allocation: List[List[float]] = default([\n",
    "        init_agent_avl_alloc\n",
    "    ])\n",
    "    # Agents_composition: List[List[float]] = default([\n",
    "    #     agents_composition\n",
    "    # ])\n",
    "\n",
    "    # agents_avl_balance: List[List[float]] = default([\n",
    "    #     agents_avl_balance\n",
    "    # ])\n",
    "\n",
    "    # agents_eth_balance: List[List[float]] = default([\n",
    "    #     agents_eth_balance\n",
    "    # ])\n",
    "\n",
    "parameters = FusionParams().__dict__"
   ]
  },
  {
   "cell_type": "code",
   "execution_count": 37,
   "metadata": {},
   "outputs": [],
   "source": [
    "def update_initial_state(simulation, eth_security_pct, avl_security_pct, avl_price, eth_price):\n",
    "    # Update the security percentage for ETH and AVL\n",
    "    agents_composition = [eth_security_pct[0], avl_security_pct[0]]\n",
    "    init_agent_eth_alloc = [1, 0]\n",
    "    init_agent_avl_alloc = [1 - i for i in init_agent_eth_alloc]\n",
    "    \n",
    "    # Initial conditions\n",
    "    init_fdv = 10000000000 * avl_price\n",
    "    init_inflation_rate = 4 \n",
    "    init_rewards_allocation = 20\n",
    "    init_target_avg_yield = 10\n",
    "    init_total_inflation_rewards = init_fdv * init_inflation_rate / 100\n",
    "    init_total_annual_rewards_fusion = init_total_inflation_rewards * init_rewards_allocation / 100\n",
    "    init_target_total_security = init_total_annual_rewards_fusion * 100 / init_target_avg_yield\n",
    "    \n",
    "    # Calculate security percentages\n",
    "    init_AVL_security_pct = [i * j for i, j in zip(init_agent_avl_alloc, agents_composition)]\n",
    "    init_ETH_security_pct = [i * j for i, j in zip(init_agent_eth_alloc, agents_composition)]\n",
    "    \n",
    "    # Compute balances based on updated percentages\n",
    "    agents_avl_balance = [init_target_total_security * pct / avl_price for pct in init_AVL_security_pct]\n",
    "    agents_eth_balance = [init_target_total_security * pct / eth_price for pct in init_ETH_security_pct]\n",
    "    \n",
    "    # Update the initial state in the simulation model\n",
    "    simulation.model.initial_state.update({\n",
    "        \"timestep\": 0,\n",
    "        \"avl_price\": avl_price,\n",
    "        \"eth_price\": eth_price, \n",
    "        \"AVL_security_pct\": sum(init_AVL_security_pct) * 100,\n",
    "        \"ETH_security_pct\": sum(init_ETH_security_pct) * 100,\n",
    "        \"total_security\": init_target_total_security,\n",
    "        \"total_fdv\": init_fdv,\n",
    "        \"total_annual_rewards\": init_total_inflation_rewards,\n",
    "        \"total_annual_rewards_fusion\": init_total_annual_rewards_fusion,\n",
    "        \"avg_yield\": init_target_avg_yield,\n",
    "        \"ETH_stake\": Stake(eth_price, agents_eth_balance, 0, 0),\n",
    "        \"AVL_stake\": Stake(avl_price, agents_avl_balance, 0, 0),\n",
    "        \"yield_pcts\": [0, 0],\n",
    "        \"avg_yield\": 0.0,\n",
    "    })\n",
    "    \n",
    "    # Return updated security percentages and balances for confirmation\n",
    "    return init_AVL_security_pct, init_ETH_security_pct, agents_avl_balance, agents_eth_balance\n"
   ]
  },
  {
   "cell_type": "code",
   "execution_count": 38,
   "metadata": {},
   "outputs": [],
   "source": [
    "psub = [\n",
    "    {\n",
    "        \"policies\": {\n",
    "             },\n",
    "        \"variables\": {\n",
    "            \"timestep\": basic_model.update_timestep,\n",
    "            \"avl_price\": basic_model.update_avl_price,\n",
    "            \"eth_price\": basic_model.update_eth_price,\n",
    "        }\n",
    "    }, {\n",
    "        \"policies\": {\n",
    "            \"action\":basic_model.policy_tune_rewards_allocation\n",
    "             },\n",
    "        \"variables\": {\n",
    "            \"rewards_allocation\": basic_model.update_rewards_allocation,\n",
    "        }\n",
    "    }, \n",
    "    {\n",
    "        \"policies\": {\n",
    "            \"action\":basic_model.calc_rewards\n",
    "             },\n",
    "        \"variables\": {\n",
    "            \"total_annual_rewards\": basic_model.update_total_annual_rewards,\n",
    "            \"total_annual_rewards_fusion\": basic_model.update_total_annual_rewards_fusion,\n",
    "            \"total_fdv\": basic_model.update_total_fdv,\n",
    "        }\n",
    "    }, \n",
    "    {\n",
    "        \"policies\": {\n",
    "            \"action\": basic_model.calc_security_shares\n",
    "            },\n",
    "            \"variables\": {\n",
    "                \"AVL_security_pct\": basic_model.update_AVL_pct,\n",
    "                \"ETH_security_pct\": basic_model.update_ETH_pct,\n",
    "                \"total_security\": basic_model.update_total_security,\n",
    "                \"ETH_stake\": basic_model.update_ETH_stake,\n",
    "                \"AVL_stake\": basic_model.update_AVL_stake,\n",
    "            }\n",
    "    },\n",
    "    {\n",
    "        \"policies\": {\n",
    "            \"action\": basic_model.calc_agents_balances\n",
    "            },\n",
    "            \"variables\": {\n",
    "                \"ETH_stake\": basic_model.update_ETH_stake,\n",
    "                \"AVL_stake\": basic_model.update_AVL_stake,\n",
    "            }\n",
    "    },\n",
    "    {\n",
    "        \"policies\": {\n",
    "            \"action\": agents.calc_rewards_allocation\n",
    "            },\n",
    "            \"variables\": {\n",
    "                \"AVL_stake\": agents.update_AVL_stake,\n",
    "                \"ETH_stake\": agents.update_ETH_stake,\n",
    "            }\n",
    "    },\n",
    "    {\n",
    "        \"policies\": {\n",
    "            \"action\": agents.calc_yields\n",
    "            },\n",
    "            \"variables\": {\n",
    "                \"yield_pcts\": agents.update_yields,\n",
    "                \"avg_yield\": agents.update_avg_yield,\n",
    "            }\n",
    "    },\n",
    "]\n",
    "\n",
    "initial_conditions = {\n",
    "    \"timestep\": 0,\n",
    "    \"avl_price\": AVL_initial_price,\n",
    "    \"eth_price\": ETH_initial_price, \n",
    "    \"AVL_security_pct\": sum(init_AVL_security_pct) * 100,\n",
    "    \"ETH_security_pct\": sum(init_ETH_security_pct) * 100,\n",
    "    \"total_security\": init_target_total_security,\n",
    "    # \"target_total_security\": init_target_total_security,\n",
    "    \"total_fdv\": init_fdv,\n",
    "    \"total_annual_rewards\": init_total_inflation_rewards,\n",
    "    \"total_annual_rewards_fusion\": init_total_annual_rewards_fusion,\n",
    "    \"avg_yield\": 5.0,\n",
    "    \"ETH_stake\": Stake(ETH_initial_price, agents_eth_balance,0,0),\n",
    "    \"AVL_stake\": Stake(AVL_initial_price, agents_avl_balance,0,0),\n",
    "    \"yield_pcts\": [0,0],\n",
    "    \"avg_yield\": 0.0,\n",
    "    \"rewards_allocation\": init_rewards_allocation,\n",
    "}\n",
    "\n",
    "\n",
    "params = parameters\n",
    "\n"
   ]
  },
  {
   "cell_type": "code",
   "execution_count": 39,
   "metadata": {},
   "outputs": [],
   "source": [
    "model = Model(\n",
    "    initial_state=initial_conditions,\n",
    "    state_update_blocks=psub,\n",
    "    params=params\n",
    ")\n",
    "\n",
    "simulation=Simulation(model=model, timesteps=Timestep, runs=1)\n",
    "experiment = Experiment([simulation])\n",
    "experiment.engine = Engine(deepcopy=True, backend=Backend.SINGLE_PROCESS)\n",
    "results  = experiment.run()\n",
    "df= pd.DataFrame(results)\n"
   ]
  },
  {
   "cell_type": "code",
   "execution_count": 40,
   "metadata": {},
   "outputs": [
    {
     "data": {
      "text/html": [
       "<div>\n",
       "<style scoped>\n",
       "    .dataframe tbody tr th:only-of-type {\n",
       "        vertical-align: middle;\n",
       "    }\n",
       "\n",
       "    .dataframe tbody tr th {\n",
       "        vertical-align: top;\n",
       "    }\n",
       "\n",
       "    .dataframe thead th {\n",
       "        text-align: right;\n",
       "    }\n",
       "</style>\n",
       "<table border=\"1\" class=\"dataframe\">\n",
       "  <thead>\n",
       "    <tr style=\"text-align: right;\">\n",
       "      <th></th>\n",
       "      <th>timestep</th>\n",
       "      <th>avl_price</th>\n",
       "      <th>eth_price</th>\n",
       "      <th>AVL_security_pct</th>\n",
       "      <th>ETH_security_pct</th>\n",
       "      <th>total_security</th>\n",
       "      <th>total_fdv</th>\n",
       "      <th>total_annual_rewards</th>\n",
       "      <th>total_annual_rewards_fusion</th>\n",
       "      <th>avg_yield</th>\n",
       "      <th>ETH_stake</th>\n",
       "      <th>AVL_stake</th>\n",
       "      <th>yield_pcts</th>\n",
       "      <th>rewards_allocation</th>\n",
       "      <th>simulation</th>\n",
       "      <th>subset</th>\n",
       "      <th>run</th>\n",
       "      <th>substep</th>\n",
       "    </tr>\n",
       "  </thead>\n",
       "  <tbody>\n",
       "    <tr>\n",
       "      <th>0</th>\n",
       "      <td>0</td>\n",
       "      <td>0.031772</td>\n",
       "      <td>2524.103856</td>\n",
       "      <td>20.000000</td>\n",
       "      <td>80.000000</td>\n",
       "      <td>5.295316e+07</td>\n",
       "      <td>3.177190e+08</td>\n",
       "      <td>1.270876e+07</td>\n",
       "      <td>7.307536e+06</td>\n",
       "      <td>0.000000</td>\n",
       "      <td>Stake(initial_price=np.float64(2524.1038563091...</td>\n",
       "      <td>Stake(initial_price=np.float64(0.0317718952660...</td>\n",
       "      <td>[0, 0]</td>\n",
       "      <td>57.5</td>\n",
       "      <td>0</td>\n",
       "      <td>0</td>\n",
       "      <td>1</td>\n",
       "      <td>0</td>\n",
       "    </tr>\n",
       "    <tr>\n",
       "      <th>1</th>\n",
       "      <td>1</td>\n",
       "      <td>0.031772</td>\n",
       "      <td>2524.103856</td>\n",
       "      <td>20.000000</td>\n",
       "      <td>80.000000</td>\n",
       "      <td>5.295316e+07</td>\n",
       "      <td>3.177190e+08</td>\n",
       "      <td>1.270876e+07</td>\n",
       "      <td>7.307536e+06</td>\n",
       "      <td>0.000000</td>\n",
       "      <td>Stake(initial_price=np.float64(2524.1038563091...</td>\n",
       "      <td>Stake(initial_price=np.float64(0.0317718952660...</td>\n",
       "      <td>[0, 0]</td>\n",
       "      <td>57.5</td>\n",
       "      <td>0</td>\n",
       "      <td>0</td>\n",
       "      <td>1</td>\n",
       "      <td>1</td>\n",
       "    </tr>\n",
       "    <tr>\n",
       "      <th>2</th>\n",
       "      <td>1</td>\n",
       "      <td>0.031772</td>\n",
       "      <td>2524.103856</td>\n",
       "      <td>20.000000</td>\n",
       "      <td>80.000000</td>\n",
       "      <td>5.295316e+07</td>\n",
       "      <td>3.177190e+08</td>\n",
       "      <td>1.270876e+07</td>\n",
       "      <td>7.307536e+06</td>\n",
       "      <td>0.000000</td>\n",
       "      <td>Stake(initial_price=np.float64(2524.1038563091...</td>\n",
       "      <td>Stake(initial_price=np.float64(0.0317718952660...</td>\n",
       "      <td>[0, 0]</td>\n",
       "      <td>57.5</td>\n",
       "      <td>0</td>\n",
       "      <td>0</td>\n",
       "      <td>1</td>\n",
       "      <td>2</td>\n",
       "    </tr>\n",
       "    <tr>\n",
       "      <th>3</th>\n",
       "      <td>1</td>\n",
       "      <td>0.031772</td>\n",
       "      <td>2524.103856</td>\n",
       "      <td>20.000000</td>\n",
       "      <td>80.000000</td>\n",
       "      <td>5.295316e+07</td>\n",
       "      <td>3.177190e+08</td>\n",
       "      <td>1.270876e+07</td>\n",
       "      <td>7.307536e+06</td>\n",
       "      <td>0.000000</td>\n",
       "      <td>Stake(initial_price=np.float64(2524.1038563091...</td>\n",
       "      <td>Stake(initial_price=np.float64(0.0317718952660...</td>\n",
       "      <td>[0, 0]</td>\n",
       "      <td>57.5</td>\n",
       "      <td>0</td>\n",
       "      <td>0</td>\n",
       "      <td>1</td>\n",
       "      <td>3</td>\n",
       "    </tr>\n",
       "    <tr>\n",
       "      <th>4</th>\n",
       "      <td>1</td>\n",
       "      <td>0.031772</td>\n",
       "      <td>2524.103856</td>\n",
       "      <td>20.000000</td>\n",
       "      <td>80.000000</td>\n",
       "      <td>5.295316e+07</td>\n",
       "      <td>3.177190e+08</td>\n",
       "      <td>1.270876e+07</td>\n",
       "      <td>7.307536e+06</td>\n",
       "      <td>0.000000</td>\n",
       "      <td>Stake(initial_price=np.float64(2524.1038563091...</td>\n",
       "      <td>Stake(initial_price=np.float64(0.0317718952660...</td>\n",
       "      <td>[0, 0]</td>\n",
       "      <td>57.5</td>\n",
       "      <td>0</td>\n",
       "      <td>0</td>\n",
       "      <td>1</td>\n",
       "      <td>4</td>\n",
       "    </tr>\n",
       "    <tr>\n",
       "      <th>...</th>\n",
       "      <td>...</td>\n",
       "      <td>...</td>\n",
       "      <td>...</td>\n",
       "      <td>...</td>\n",
       "      <td>...</td>\n",
       "      <td>...</td>\n",
       "      <td>...</td>\n",
       "      <td>...</td>\n",
       "      <td>...</td>\n",
       "      <td>...</td>\n",
       "      <td>...</td>\n",
       "      <td>...</td>\n",
       "      <td>...</td>\n",
       "      <td>...</td>\n",
       "      <td>...</td>\n",
       "      <td>...</td>\n",
       "      <td>...</td>\n",
       "      <td>...</td>\n",
       "    </tr>\n",
       "    <tr>\n",
       "      <th>304</th>\n",
       "      <td>44</td>\n",
       "      <td>0.529324</td>\n",
       "      <td>3796.868867</td>\n",
       "      <td>72.963307</td>\n",
       "      <td>27.036693</td>\n",
       "      <td>2.383358e+08</td>\n",
       "      <td>5.293236e+09</td>\n",
       "      <td>2.117294e+08</td>\n",
       "      <td>1.217444e+08</td>\n",
       "      <td>50.344682</td>\n",
       "      <td>Stake(initial_price=np.float64(3839.4434607158...</td>\n",
       "      <td>Stake(initial_price=np.float64(0.5216931237172...</td>\n",
       "      <td>[167.5878551700783, 6.8999999999999995]</td>\n",
       "      <td>57.5</td>\n",
       "      <td>0</td>\n",
       "      <td>0</td>\n",
       "      <td>1</td>\n",
       "      <td>3</td>\n",
       "    </tr>\n",
       "    <tr>\n",
       "      <th>305</th>\n",
       "      <td>44</td>\n",
       "      <td>0.529324</td>\n",
       "      <td>3796.868867</td>\n",
       "      <td>73.466721</td>\n",
       "      <td>26.533279</td>\n",
       "      <td>2.401648e+08</td>\n",
       "      <td>5.293236e+09</td>\n",
       "      <td>2.117294e+08</td>\n",
       "      <td>1.217444e+08</td>\n",
       "      <td>50.344682</td>\n",
       "      <td>Stake(initial_price=np.float64(3796.8688671601...</td>\n",
       "      <td>Stake(initial_price=np.float64(0.5293235531558...</td>\n",
       "      <td>[167.5878551700783, 6.8999999999999995]</td>\n",
       "      <td>57.5</td>\n",
       "      <td>0</td>\n",
       "      <td>0</td>\n",
       "      <td>1</td>\n",
       "      <td>4</td>\n",
       "    </tr>\n",
       "    <tr>\n",
       "      <th>306</th>\n",
       "      <td>44</td>\n",
       "      <td>0.529324</td>\n",
       "      <td>3796.868867</td>\n",
       "      <td>73.466721</td>\n",
       "      <td>26.533279</td>\n",
       "      <td>2.401648e+08</td>\n",
       "      <td>5.293236e+09</td>\n",
       "      <td>2.117294e+08</td>\n",
       "      <td>1.217444e+08</td>\n",
       "      <td>50.344682</td>\n",
       "      <td>Stake(initial_price=np.float64(3796.8688671601...</td>\n",
       "      <td>Stake(initial_price=np.float64(0.5293235531558...</td>\n",
       "      <td>[167.5878551700783, 6.8999999999999995]</td>\n",
       "      <td>57.5</td>\n",
       "      <td>0</td>\n",
       "      <td>0</td>\n",
       "      <td>1</td>\n",
       "      <td>5</td>\n",
       "    </tr>\n",
       "    <tr>\n",
       "      <th>307</th>\n",
       "      <td>44</td>\n",
       "      <td>0.529324</td>\n",
       "      <td>3796.868867</td>\n",
       "      <td>73.466721</td>\n",
       "      <td>26.533279</td>\n",
       "      <td>2.401648e+08</td>\n",
       "      <td>5.293236e+09</td>\n",
       "      <td>2.117294e+08</td>\n",
       "      <td>1.217444e+08</td>\n",
       "      <td>50.344682</td>\n",
       "      <td>Stake(initial_price=np.float64(3796.8688671601...</td>\n",
       "      <td>Stake(initial_price=np.float64(0.5293235531558...</td>\n",
       "      <td>[167.5878551700783, 6.8999999999999995]</td>\n",
       "      <td>57.5</td>\n",
       "      <td>0</td>\n",
       "      <td>0</td>\n",
       "      <td>1</td>\n",
       "      <td>6</td>\n",
       "    </tr>\n",
       "    <tr>\n",
       "      <th>308</th>\n",
       "      <td>44</td>\n",
       "      <td>0.529324</td>\n",
       "      <td>3796.868867</td>\n",
       "      <td>73.466721</td>\n",
       "      <td>26.533279</td>\n",
       "      <td>2.401648e+08</td>\n",
       "      <td>5.293236e+09</td>\n",
       "      <td>2.117294e+08</td>\n",
       "      <td>1.217444e+08</td>\n",
       "      <td>50.692037</td>\n",
       "      <td>Stake(initial_price=np.float64(3796.8688671601...</td>\n",
       "      <td>Stake(initial_price=np.float64(0.5293235531558...</td>\n",
       "      <td>[171.94570332486165, 6.9]</td>\n",
       "      <td>57.5</td>\n",
       "      <td>0</td>\n",
       "      <td>0</td>\n",
       "      <td>1</td>\n",
       "      <td>7</td>\n",
       "    </tr>\n",
       "  </tbody>\n",
       "</table>\n",
       "<p>309 rows × 18 columns</p>\n",
       "</div>"
      ],
      "text/plain": [
       "     timestep  avl_price    eth_price  AVL_security_pct  ETH_security_pct  \\\n",
       "0           0   0.031772  2524.103856         20.000000         80.000000   \n",
       "1           1   0.031772  2524.103856         20.000000         80.000000   \n",
       "2           1   0.031772  2524.103856         20.000000         80.000000   \n",
       "3           1   0.031772  2524.103856         20.000000         80.000000   \n",
       "4           1   0.031772  2524.103856         20.000000         80.000000   \n",
       "..        ...        ...          ...               ...               ...   \n",
       "304        44   0.529324  3796.868867         72.963307         27.036693   \n",
       "305        44   0.529324  3796.868867         73.466721         26.533279   \n",
       "306        44   0.529324  3796.868867         73.466721         26.533279   \n",
       "307        44   0.529324  3796.868867         73.466721         26.533279   \n",
       "308        44   0.529324  3796.868867         73.466721         26.533279   \n",
       "\n",
       "     total_security     total_fdv  total_annual_rewards  \\\n",
       "0      5.295316e+07  3.177190e+08          1.270876e+07   \n",
       "1      5.295316e+07  3.177190e+08          1.270876e+07   \n",
       "2      5.295316e+07  3.177190e+08          1.270876e+07   \n",
       "3      5.295316e+07  3.177190e+08          1.270876e+07   \n",
       "4      5.295316e+07  3.177190e+08          1.270876e+07   \n",
       "..              ...           ...                   ...   \n",
       "304    2.383358e+08  5.293236e+09          2.117294e+08   \n",
       "305    2.401648e+08  5.293236e+09          2.117294e+08   \n",
       "306    2.401648e+08  5.293236e+09          2.117294e+08   \n",
       "307    2.401648e+08  5.293236e+09          2.117294e+08   \n",
       "308    2.401648e+08  5.293236e+09          2.117294e+08   \n",
       "\n",
       "     total_annual_rewards_fusion  avg_yield  \\\n",
       "0                   7.307536e+06   0.000000   \n",
       "1                   7.307536e+06   0.000000   \n",
       "2                   7.307536e+06   0.000000   \n",
       "3                   7.307536e+06   0.000000   \n",
       "4                   7.307536e+06   0.000000   \n",
       "..                           ...        ...   \n",
       "304                 1.217444e+08  50.344682   \n",
       "305                 1.217444e+08  50.344682   \n",
       "306                 1.217444e+08  50.344682   \n",
       "307                 1.217444e+08  50.344682   \n",
       "308                 1.217444e+08  50.692037   \n",
       "\n",
       "                                             ETH_stake  \\\n",
       "0    Stake(initial_price=np.float64(2524.1038563091...   \n",
       "1    Stake(initial_price=np.float64(2524.1038563091...   \n",
       "2    Stake(initial_price=np.float64(2524.1038563091...   \n",
       "3    Stake(initial_price=np.float64(2524.1038563091...   \n",
       "4    Stake(initial_price=np.float64(2524.1038563091...   \n",
       "..                                                 ...   \n",
       "304  Stake(initial_price=np.float64(3839.4434607158...   \n",
       "305  Stake(initial_price=np.float64(3796.8688671601...   \n",
       "306  Stake(initial_price=np.float64(3796.8688671601...   \n",
       "307  Stake(initial_price=np.float64(3796.8688671601...   \n",
       "308  Stake(initial_price=np.float64(3796.8688671601...   \n",
       "\n",
       "                                             AVL_stake  \\\n",
       "0    Stake(initial_price=np.float64(0.0317718952660...   \n",
       "1    Stake(initial_price=np.float64(0.0317718952660...   \n",
       "2    Stake(initial_price=np.float64(0.0317718952660...   \n",
       "3    Stake(initial_price=np.float64(0.0317718952660...   \n",
       "4    Stake(initial_price=np.float64(0.0317718952660...   \n",
       "..                                                 ...   \n",
       "304  Stake(initial_price=np.float64(0.5216931237172...   \n",
       "305  Stake(initial_price=np.float64(0.5293235531558...   \n",
       "306  Stake(initial_price=np.float64(0.5293235531558...   \n",
       "307  Stake(initial_price=np.float64(0.5293235531558...   \n",
       "308  Stake(initial_price=np.float64(0.5293235531558...   \n",
       "\n",
       "                                  yield_pcts  rewards_allocation  simulation  \\\n",
       "0                                     [0, 0]                57.5           0   \n",
       "1                                     [0, 0]                57.5           0   \n",
       "2                                     [0, 0]                57.5           0   \n",
       "3                                     [0, 0]                57.5           0   \n",
       "4                                     [0, 0]                57.5           0   \n",
       "..                                       ...                 ...         ...   \n",
       "304  [167.5878551700783, 6.8999999999999995]                57.5           0   \n",
       "305  [167.5878551700783, 6.8999999999999995]                57.5           0   \n",
       "306  [167.5878551700783, 6.8999999999999995]                57.5           0   \n",
       "307  [167.5878551700783, 6.8999999999999995]                57.5           0   \n",
       "308                [171.94570332486165, 6.9]                57.5           0   \n",
       "\n",
       "     subset  run  substep  \n",
       "0         0    1        0  \n",
       "1         0    1        1  \n",
       "2         0    1        2  \n",
       "3         0    1        3  \n",
       "4         0    1        4  \n",
       "..      ...  ...      ...  \n",
       "304       0    1        3  \n",
       "305       0    1        4  \n",
       "306       0    1        5  \n",
       "307       0    1        6  \n",
       "308       0    1        7  \n",
       "\n",
       "[309 rows x 18 columns]"
      ]
     },
     "execution_count": 40,
     "metadata": {},
     "output_type": "execute_result"
    }
   ],
   "source": [
    "df"
   ]
  },
  {
   "cell_type": "code",
   "execution_count": 41,
   "metadata": {},
   "outputs": [
    {
     "data": {
      "application/vnd.plotly.v1+json": {
       "config": {
        "plotlyServerURL": "https://plot.ly"
       },
       "data": [
        {
         "line": {
          "color": "#1f77b4",
          "dash": "dot"
         },
         "mode": "lines",
         "name": "downside AVL",
         "type": "scatter",
         "x": [
          0,
          1,
          1,
          1,
          1,
          1,
          1,
          1,
          2,
          2,
          2,
          2,
          2,
          2,
          2,
          3,
          3,
          3,
          3,
          3,
          3,
          3,
          4,
          4,
          4,
          4,
          4,
          4,
          4,
          5,
          5,
          5,
          5,
          5,
          5,
          5,
          6,
          6,
          6,
          6,
          6,
          6,
          6,
          7,
          7,
          7,
          7,
          7,
          7,
          7,
          8,
          8,
          8,
          8,
          8,
          8,
          8,
          9,
          9,
          9,
          9,
          9,
          9,
          9,
          10,
          10,
          10,
          10,
          10,
          10,
          10,
          11,
          11,
          11,
          11,
          11,
          11,
          11,
          12,
          12,
          12,
          12,
          12,
          12,
          12,
          13,
          13,
          13,
          13,
          13,
          13,
          13,
          14,
          14,
          14,
          14,
          14,
          14,
          14,
          15,
          15,
          15,
          15,
          15,
          15,
          15,
          16,
          16,
          16,
          16,
          16,
          16,
          16,
          17,
          17,
          17,
          17,
          17,
          17,
          17,
          18,
          18,
          18,
          18,
          18,
          18,
          18,
          19,
          19,
          19,
          19,
          19,
          19,
          19,
          20,
          20,
          20,
          20,
          20,
          20,
          20,
          21,
          21,
          21,
          21,
          21,
          21,
          21,
          22,
          22,
          22,
          22,
          22,
          22,
          22,
          23,
          23,
          23,
          23,
          23,
          23,
          23,
          24,
          24,
          24,
          24,
          24,
          24,
          24,
          25,
          25,
          25,
          25,
          25,
          25,
          25,
          26,
          26,
          26,
          26,
          26,
          26,
          26,
          27,
          27,
          27,
          27,
          27,
          27,
          27,
          28,
          28,
          28,
          28,
          28,
          28,
          28,
          29,
          29,
          29,
          29,
          29,
          29,
          29,
          30,
          30,
          30,
          30,
          30,
          30,
          30,
          31,
          31,
          31,
          31,
          31,
          31,
          31,
          32,
          32,
          32,
          32,
          32,
          32,
          32,
          33,
          33,
          33,
          33,
          33,
          33,
          33,
          34,
          34,
          34,
          34,
          34,
          34,
          34,
          35,
          35,
          35,
          35,
          35,
          35,
          35,
          36,
          36,
          36,
          36,
          36,
          36,
          36,
          37,
          37,
          37,
          37,
          37,
          37,
          37,
          38,
          38,
          38,
          38,
          38,
          38,
          38,
          39,
          39,
          39,
          39,
          39,
          39,
          39,
          40,
          40,
          40,
          40,
          40,
          40,
          40,
          41,
          41,
          41,
          41,
          41,
          41,
          41,
          42,
          42,
          42,
          42,
          42,
          42,
          42,
          43,
          43,
          43,
          43,
          43,
          43,
          43,
          44,
          44,
          44,
          44,
          44,
          44,
          44
         ],
         "xaxis": "x",
         "y": [
          0.031771895266071,
          0.031771895266071,
          0.031771895266071,
          0.031771895266071,
          0.031771895266071,
          0.031771895266071,
          0.031771895266071,
          0.031771895266071,
          0.031771895266071,
          0.031771895266071,
          0.031771895266071,
          0.031771895266071,
          0.031771895266071,
          0.031771895266071,
          0.031771895266071,
          0.0210618779954378,
          0.0210618779954378,
          0.0210618779954378,
          0.0210618779954378,
          0.0210618779954378,
          0.0210618779954378,
          0.0210618779954378,
          0.0142976363755497,
          0.0142976363755497,
          0.0142976363755497,
          0.0142976363755497,
          0.0142976363755497,
          0.0142976363755497,
          0.0142976363755497,
          0.0260443568713876,
          0.0260443568713876,
          0.0260443568713876,
          0.0260443568713876,
          0.0260443568713876,
          0.0260443568713876,
          0.0260443568713876,
          0.0238760890993674,
          0.0238760890993674,
          0.0238760890993674,
          0.0238760890993674,
          0.0238760890993674,
          0.0238760890993674,
          0.0238760890993674,
          0.0278349016727917,
          0.0278349016727917,
          0.0278349016727917,
          0.0278349016727917,
          0.0278349016727917,
          0.0278349016727917,
          0.0278349016727917,
          0.0270076520925772,
          0.0270076520925772,
          0.0270076520925772,
          0.0270076520925772,
          0.0270076520925772,
          0.0270076520925772,
          0.0270076520925772,
          0.0385904747125983,
          0.0385904747125983,
          0.0385904747125983,
          0.0385904747125983,
          0.0385904747125983,
          0.0385904747125983,
          0.0385904747125983,
          0.0273420149942755,
          0.0273420149942755,
          0.0273420149942755,
          0.0273420149942755,
          0.0273420149942755,
          0.0273420149942755,
          0.0273420149942755,
          0.0241274364644976,
          0.0241274364644976,
          0.0241274364644976,
          0.0241274364644976,
          0.0241274364644976,
          0.0241274364644976,
          0.0241274364644976,
          0.0154635590629081,
          0.0154635590629081,
          0.0154635590629081,
          0.0154635590629081,
          0.0154635590629081,
          0.0154635590629081,
          0.0154635590629081,
          0.0190487548480122,
          0.0190487548480122,
          0.0190487548480122,
          0.0190487548480122,
          0.0190487548480122,
          0.0190487548480122,
          0.0190487548480122,
          0.0211390558815976,
          0.0211390558815976,
          0.0211390558815976,
          0.0211390558815976,
          0.0211390558815976,
          0.0211390558815976,
          0.0211390558815976,
          0.0194736729928696,
          0.0194736729928696,
          0.0194736729928696,
          0.0194736729928696,
          0.0194736729928696,
          0.0194736729928696,
          0.0194736729928696,
          0.0288839186897848,
          0.0288839186897848,
          0.0288839186897848,
          0.0288839186897848,
          0.0288839186897848,
          0.0288839186897848,
          0.0288839186897848,
          0.0252203325695912,
          0.0252203325695912,
          0.0252203325695912,
          0.0252203325695912,
          0.0252203325695912,
          0.0252203325695912,
          0.0252203325695912,
          0.0222368989542455,
          0.0222368989542455,
          0.0222368989542455,
          0.0222368989542455,
          0.0222368989542455,
          0.0222368989542455,
          0.0222368989542455,
          0.0220655936797106,
          0.0220655936797106,
          0.0220655936797106,
          0.0220655936797106,
          0.0220655936797106,
          0.0220655936797106,
          0.0220655936797106,
          0.0206765723910489,
          0.0206765723910489,
          0.0206765723910489,
          0.0206765723910489,
          0.0206765723910489,
          0.0206765723910489,
          0.0206765723910489,
          0.4437523421360997,
          0.4437523421360997,
          0.4437523421360997,
          0.4437523421360997,
          0.4437523421360997,
          0.4437523421360997,
          0.4437523421360997,
          0.5485103247125546,
          0.5485103247125546,
          0.5485103247125546,
          0.5485103247125546,
          0.5485103247125546,
          0.5485103247125546,
          0.5485103247125546,
          0.6105022848892393,
          0.6105022848892393,
          0.6105022848892393,
          0.6105022848892393,
          0.6105022848892393,
          0.6105022848892393,
          0.6105022848892393,
          0.7622350256566389,
          0.7622350256566389,
          0.7622350256566389,
          0.7622350256566389,
          0.7622350256566389,
          0.7622350256566389,
          0.7622350256566389,
          0.7446081438863831,
          0.7446081438863831,
          0.7446081438863831,
          0.7446081438863831,
          0.7446081438863831,
          0.7446081438863831,
          0.7446081438863831,
          0.6737168665932044,
          0.6737168665932044,
          0.6737168665932044,
          0.6737168665932044,
          0.6737168665932044,
          0.6737168665932044,
          0.6737168665932044,
          0.6694318418224516,
          0.6694318418224516,
          0.6694318418224516,
          0.6694318418224516,
          0.6694318418224516,
          0.6694318418224516,
          0.6694318418224516,
          0.6022687479513331,
          0.6022687479513331,
          0.6022687479513331,
          0.6022687479513331,
          0.6022687479513331,
          0.6022687479513331,
          0.6022687479513331,
          0.5819123568733855,
          0.5819123568733855,
          0.5819123568733855,
          0.5819123568733855,
          0.5819123568733855,
          0.5819123568733855,
          0.5819123568733855,
          0.4960942406142197,
          0.4960942406142197,
          0.4960942406142197,
          0.4960942406142197,
          0.4960942406142197,
          0.4960942406142197,
          0.4960942406142197,
          0.5112651477855993,
          0.5112651477855993,
          0.5112651477855993,
          0.5112651477855993,
          0.5112651477855993,
          0.5112651477855993,
          0.5112651477855993,
          0.44904310744163,
          0.44904310744163,
          0.44904310744163,
          0.44904310744163,
          0.44904310744163,
          0.44904310744163,
          0.44904310744163,
          0.455489430102033,
          0.455489430102033,
          0.455489430102033,
          0.455489430102033,
          0.455489430102033,
          0.455489430102033,
          0.455489430102033,
          0.4532322401656012,
          0.4532322401656012,
          0.4532322401656012,
          0.4532322401656012,
          0.4532322401656012,
          0.4532322401656012,
          0.4532322401656012,
          0.4295741547535035,
          0.4295741547535035,
          0.4295741547535035,
          0.4295741547535035,
          0.4295741547535035,
          0.4295741547535035,
          0.4295741547535035,
          0.4194086046278029,
          0.4194086046278029,
          0.4194086046278029,
          0.4194086046278029,
          0.4194086046278029,
          0.4194086046278029,
          0.4194086046278029,
          0.44581864238981,
          0.44581864238981,
          0.44581864238981,
          0.44581864238981,
          0.44581864238981,
          0.44581864238981,
          0.44581864238981,
          0.4418121155166769,
          0.4418121155166769,
          0.4418121155166769,
          0.4418121155166769,
          0.4418121155166769,
          0.4418121155166769,
          0.4418121155166769,
          0.6812933543697962,
          0.6812933543697962,
          0.6812933543697962,
          0.6812933543697962,
          0.6812933543697962,
          0.6812933543697962,
          0.6812933543697962,
          0.5823964456108006,
          0.5823964456108006,
          0.5823964456108006,
          0.5823964456108006,
          0.5823964456108006,
          0.5823964456108006,
          0.5823964456108006,
          0.5985820022256707,
          0.5985820022256707,
          0.5985820022256707,
          0.5985820022256707,
          0.5985820022256707,
          0.5985820022256707,
          0.5985820022256707,
          0.5460341498220757,
          0.5460341498220757,
          0.5460341498220757,
          0.5460341498220757,
          0.5460341498220757,
          0.5460341498220757,
          0.5460341498220757,
          0.5216931237172697,
          0.5216931237172697,
          0.5216931237172697,
          0.5216931237172697,
          0.5216931237172697,
          0.5216931237172697,
          0.5216931237172697,
          0.5293235531558035,
          0.5293235531558035,
          0.5293235531558035,
          0.5293235531558035,
          0.5293235531558035,
          0.5293235531558035,
          0.5293235531558035
         ],
         "yaxis": "y"
        },
        {
         "line": {
          "color": "#ff7f0e",
          "dash": "dot"
         },
         "mode": "lines",
         "name": "downside ETH",
         "type": "scatter",
         "x": [
          0,
          1,
          1,
          1,
          1,
          1,
          1,
          1,
          2,
          2,
          2,
          2,
          2,
          2,
          2,
          3,
          3,
          3,
          3,
          3,
          3,
          3,
          4,
          4,
          4,
          4,
          4,
          4,
          4,
          5,
          5,
          5,
          5,
          5,
          5,
          5,
          6,
          6,
          6,
          6,
          6,
          6,
          6,
          7,
          7,
          7,
          7,
          7,
          7,
          7,
          8,
          8,
          8,
          8,
          8,
          8,
          8,
          9,
          9,
          9,
          9,
          9,
          9,
          9,
          10,
          10,
          10,
          10,
          10,
          10,
          10,
          11,
          11,
          11,
          11,
          11,
          11,
          11,
          12,
          12,
          12,
          12,
          12,
          12,
          12,
          13,
          13,
          13,
          13,
          13,
          13,
          13,
          14,
          14,
          14,
          14,
          14,
          14,
          14,
          15,
          15,
          15,
          15,
          15,
          15,
          15,
          16,
          16,
          16,
          16,
          16,
          16,
          16,
          17,
          17,
          17,
          17,
          17,
          17,
          17,
          18,
          18,
          18,
          18,
          18,
          18,
          18,
          19,
          19,
          19,
          19,
          19,
          19,
          19,
          20,
          20,
          20,
          20,
          20,
          20,
          20,
          21,
          21,
          21,
          21,
          21,
          21,
          21,
          22,
          22,
          22,
          22,
          22,
          22,
          22,
          23,
          23,
          23,
          23,
          23,
          23,
          23,
          24,
          24,
          24,
          24,
          24,
          24,
          24,
          25,
          25,
          25,
          25,
          25,
          25,
          25,
          26,
          26,
          26,
          26,
          26,
          26,
          26,
          27,
          27,
          27,
          27,
          27,
          27,
          27,
          28,
          28,
          28,
          28,
          28,
          28,
          28,
          29,
          29,
          29,
          29,
          29,
          29,
          29,
          30,
          30,
          30,
          30,
          30,
          30,
          30,
          31,
          31,
          31,
          31,
          31,
          31,
          31,
          32,
          32,
          32,
          32,
          32,
          32,
          32,
          33,
          33,
          33,
          33,
          33,
          33,
          33,
          34,
          34,
          34,
          34,
          34,
          34,
          34,
          35,
          35,
          35,
          35,
          35,
          35,
          35,
          36,
          36,
          36,
          36,
          36,
          36,
          36,
          37,
          37,
          37,
          37,
          37,
          37,
          37,
          38,
          38,
          38,
          38,
          38,
          38,
          38,
          39,
          39,
          39,
          39,
          39,
          39,
          39,
          40,
          40,
          40,
          40,
          40,
          40,
          40,
          41,
          41,
          41,
          41,
          41,
          41,
          41,
          42,
          42,
          42,
          42,
          42,
          42,
          42,
          43,
          43,
          43,
          43,
          43,
          43,
          43,
          44,
          44,
          44,
          44,
          44,
          44,
          44
         ],
         "xaxis": "x2",
         "y": [
          2524.1038563091197,
          2524.1038563091197,
          2524.1038563091197,
          2524.1038563091197,
          2524.1038563091197,
          2524.1038563091197,
          2524.1038563091197,
          2524.1038563091197,
          2536.234041319884,
          2536.234041319884,
          2536.234041319884,
          2536.234041319884,
          2536.234041319884,
          2536.234041319884,
          2536.234041319884,
          2422.09328922875,
          2422.09328922875,
          2422.09328922875,
          2422.09328922875,
          2422.09328922875,
          2422.09328922875,
          2422.09328922875,
          2479.3736032443317,
          2479.3736032443317,
          2479.3736032443317,
          2479.3736032443317,
          2479.3736032443317,
          2479.3736032443317,
          2479.3736032443317,
          2505.502947138879,
          2505.502947138879,
          2505.502947138879,
          2505.502947138879,
          2505.502947138879,
          2505.502947138879,
          2505.502947138879,
          2564.8138556782997,
          2564.8138556782997,
          2564.8138556782997,
          2564.8138556782997,
          2564.8138556782997,
          2564.8138556782997,
          2564.8138556782997,
          2638.637351278122,
          2638.637351278122,
          2638.637351278122,
          2638.637351278122,
          2638.637351278122,
          2638.637351278122,
          2638.637351278122,
          2657.6141818494384,
          2657.6141818494384,
          2657.6141818494384,
          2657.6141818494384,
          2657.6141818494384,
          2657.6141818494384,
          2657.6141818494384,
          2514.750787241073,
          2514.750787241073,
          2514.750787241073,
          2514.750787241073,
          2514.750787241073,
          2514.750787241073,
          2514.750787241073,
          2513.8372870612066,
          2513.8372870612066,
          2513.8372870612066,
          2513.8372870612066,
          2513.8372870612066,
          2513.8372870612066,
          2513.8372870612066,
          2491.352150058657,
          2491.352150058657,
          2491.352150058657,
          2491.352150058657,
          2491.352150058657,
          2491.352150058657,
          2491.352150058657,
          2456.979687344711,
          2456.979687344711,
          2456.979687344711,
          2456.979687344711,
          2456.979687344711,
          2456.979687344711,
          2456.979687344711,
          2395.9472139132804,
          2395.9472139132804,
          2395.9472139132804,
          2395.9472139132804,
          2395.9472139132804,
          2395.9472139132804,
          2395.9472139132804,
          2422.368479855642,
          2422.368479855642,
          2422.368479855642,
          2422.368479855642,
          2422.368479855642,
          2422.368479855642,
          2422.368479855642,
          2720.6217450068793,
          2720.6217450068793,
          2720.6217450068793,
          2720.6217450068793,
          2720.6217450068793,
          2720.6217450068793,
          2720.6217450068793,
          2894.9718733838376,
          2894.9718733838376,
          2894.9718733838376,
          2894.9718733838376,
          2894.9718733838376,
          2894.9718733838376,
          2894.9718733838376,
          2960.9593369382137,
          2960.9593369382137,
          2960.9593369382137,
          2960.9593369382137,
          2960.9593369382137,
          2960.9593369382137,
          2960.9593369382137,
          3130.035524073996,
          3130.035524073996,
          3130.035524073996,
          3130.035524073996,
          3130.035524073996,
          3130.035524073996,
          3130.035524073996,
          3191.9044555518153,
          3191.9044555518153,
          3191.9044555518153,
          3191.9044555518153,
          3191.9044555518153,
          3191.9044555518153,
          3191.9044555518153,
          3372.7914863430115,
          3372.7914863430115,
          3372.7914863430115,
          3372.7914863430115,
          3372.7914863430115,
          3372.7914863430115,
          3372.7914863430115,
          3260.934386131155,
          3260.934386131155,
          3260.934386131155,
          3260.934386131155,
          3260.934386131155,
          3260.934386131155,
          3260.934386131155,
          3191.8991843987947,
          3191.8991843987947,
          3191.8991843987947,
          3191.8991843987947,
          3191.8991843987947,
          3191.8991843987947,
          3191.8991843987947,
          3059.812296932496,
          3059.812296932496,
          3059.812296932496,
          3059.812296932496,
          3059.812296932496,
          3059.812296932496,
          3059.812296932496,
          3093.913043390382,
          3093.913043390382,
          3093.913043390382,
          3093.913043390382,
          3093.913043390382,
          3093.913043390382,
          3093.913043390382,
          3133.8802234191417,
          3133.8802234191417,
          3133.8802234191417,
          3133.8802234191417,
          3133.8802234191417,
          3133.8802234191417,
          3133.8802234191417,
          3075.534532601624,
          3075.534532601624,
          3075.534532601624,
          3075.534532601624,
          3075.534532601624,
          3075.534532601624,
          3075.534532601624,
          3209.4239073326826,
          3209.4239073326826,
          3209.4239073326826,
          3209.4239073326826,
          3209.4239073326826,
          3209.4239073326826,
          3209.4239073326826,
          3112.9098010150224,
          3112.9098010150224,
          3112.9098010150224,
          3112.9098010150224,
          3112.9098010150224,
          3112.9098010150224,
          3112.9098010150224,
          3075.193856649331,
          3075.193856649331,
          3075.193856649331,
          3075.193856649331,
          3075.193856649331,
          3075.193856649331,
          3075.193856649331,
          3365.9369715466096,
          3365.9369715466096,
          3365.9369715466096,
          3365.9369715466096,
          3365.9369715466096,
          3365.9369715466096,
          3365.9369715466096,
          3327.7571951719624,
          3327.7571951719624,
          3327.7571951719624,
          3327.7571951719624,
          3327.7571951719624,
          3327.7571951719624,
          3327.7571951719624,
          3394.036961782547,
          3394.036961782547,
          3394.036961782547,
          3394.036961782547,
          3394.036961782547,
          3394.036961782547,
          3394.036961782547,
          3368.7027619429946,
          3368.7027619429946,
          3368.7027619429946,
          3368.7027619429946,
          3368.7027619429946,
          3368.7027619429946,
          3368.7027619429946,
          3417.291223691937,
          3417.291223691937,
          3417.291223691937,
          3417.291223691937,
          3417.291223691937,
          3417.291223691937,
          3417.291223691937,
          3325.636532587645,
          3325.636532587645,
          3325.636532587645,
          3325.636532587645,
          3325.636532587645,
          3325.636532587645,
          3325.636532587645,
          3666.188490437756,
          3666.188490437756,
          3666.188490437756,
          3666.188490437756,
          3666.188490437756,
          3666.188490437756,
          3666.188490437756,
          3579.2407862474997,
          3579.2407862474997,
          3579.2407862474997,
          3579.2407862474997,
          3579.2407862474997,
          3579.2407862474997,
          3579.2407862474997,
          3598.1933212253616,
          3598.1933212253616,
          3598.1933212253616,
          3598.1933212253616,
          3598.1933212253616,
          3598.1933212253616,
          3598.1933212253616,
          3709.9094391073327,
          3709.9094391073327,
          3709.9094391073327,
          3709.9094391073327,
          3709.9094391073327,
          3709.9094391073327,
          3709.9094391073327,
          3708.8072387383017,
          3708.8072387383017,
          3708.8072387383017,
          3708.8072387383017,
          3708.8072387383017,
          3708.8072387383017,
          3708.8072387383017,
          3643.855375704235,
          3643.855375704235,
          3643.855375704235,
          3643.855375704235,
          3643.855375704235,
          3643.855375704235,
          3643.855375704235,
          3625.71045794972,
          3625.71045794972,
          3625.71045794972,
          3625.71045794972,
          3625.71045794972,
          3625.71045794972,
          3625.71045794972,
          3839.443460715871,
          3839.443460715871,
          3839.443460715871,
          3839.443460715871,
          3839.443460715871,
          3839.443460715871,
          3839.443460715871,
          3796.868867160128,
          3796.868867160128,
          3796.868867160128,
          3796.868867160128,
          3796.868867160128,
          3796.868867160128,
          3796.868867160128
         ],
         "yaxis": "y2"
        }
       ],
       "layout": {
        "annotations": [
         {
          "font": {
           "size": 16
          },
          "showarrow": false,
          "text": "AVL Prices",
          "x": 0.225,
          "xanchor": "center",
          "xref": "paper",
          "y": 1,
          "yanchor": "bottom",
          "yref": "paper"
         },
         {
          "font": {
           "size": 16
          },
          "showarrow": false,
          "text": "ETH Prices",
          "x": 0.775,
          "xanchor": "center",
          "xref": "paper",
          "y": 1,
          "yanchor": "bottom",
          "yref": "paper"
         }
        ],
        "font": {
         "color": "black",
         "family": "Arial",
         "size": 18
        },
        "hovermode": "x unified",
        "legend": {
         "font": {
          "color": "black",
          "size": 18
         },
         "orientation": "h",
         "x": 0.5,
         "xanchor": "center",
         "y": -0.4,
         "yanchor": "bottom"
        },
        "paper_bgcolor": "rgba(255, 255, 255, 1)",
        "plot_bgcolor": "rgba(255, 255, 255, 1)",
        "template": {
         "data": {
          "bar": [
           {
            "error_x": {
             "color": "#2a3f5f"
            },
            "error_y": {
             "color": "#2a3f5f"
            },
            "marker": {
             "line": {
              "color": "white",
              "width": 0.5
             }
            },
            "type": "bar"
           }
          ],
          "barpolar": [
           {
            "marker": {
             "line": {
              "color": "white",
              "width": 0.5
             }
            },
            "type": "barpolar"
           }
          ],
          "carpet": [
           {
            "aaxis": {
             "endlinecolor": "#2a3f5f",
             "gridcolor": "#C8D4E3",
             "linecolor": "#C8D4E3",
             "minorgridcolor": "#C8D4E3",
             "startlinecolor": "#2a3f5f"
            },
            "baxis": {
             "endlinecolor": "#2a3f5f",
             "gridcolor": "#C8D4E3",
             "linecolor": "#C8D4E3",
             "minorgridcolor": "#C8D4E3",
             "startlinecolor": "#2a3f5f"
            },
            "type": "carpet"
           }
          ],
          "choropleth": [
           {
            "colorbar": {
             "outlinewidth": 0,
             "ticks": ""
            },
            "type": "choropleth"
           }
          ],
          "contour": [
           {
            "colorbar": {
             "outlinewidth": 0,
             "ticks": ""
            },
            "colorscale": [
             [
              0,
              "#0d0887"
             ],
             [
              0.1111111111111111,
              "#46039f"
             ],
             [
              0.2222222222222222,
              "#7201a8"
             ],
             [
              0.3333333333333333,
              "#9c179e"
             ],
             [
              0.4444444444444444,
              "#bd3786"
             ],
             [
              0.5555555555555556,
              "#d8576b"
             ],
             [
              0.6666666666666666,
              "#ed7953"
             ],
             [
              0.7777777777777778,
              "#fb9f3a"
             ],
             [
              0.8888888888888888,
              "#fdca26"
             ],
             [
              1,
              "#f0f921"
             ]
            ],
            "type": "contour"
           }
          ],
          "contourcarpet": [
           {
            "colorbar": {
             "outlinewidth": 0,
             "ticks": ""
            },
            "type": "contourcarpet"
           }
          ],
          "heatmap": [
           {
            "colorbar": {
             "outlinewidth": 0,
             "ticks": ""
            },
            "colorscale": [
             [
              0,
              "#0d0887"
             ],
             [
              0.1111111111111111,
              "#46039f"
             ],
             [
              0.2222222222222222,
              "#7201a8"
             ],
             [
              0.3333333333333333,
              "#9c179e"
             ],
             [
              0.4444444444444444,
              "#bd3786"
             ],
             [
              0.5555555555555556,
              "#d8576b"
             ],
             [
              0.6666666666666666,
              "#ed7953"
             ],
             [
              0.7777777777777778,
              "#fb9f3a"
             ],
             [
              0.8888888888888888,
              "#fdca26"
             ],
             [
              1,
              "#f0f921"
             ]
            ],
            "type": "heatmap"
           }
          ],
          "heatmapgl": [
           {
            "colorbar": {
             "outlinewidth": 0,
             "ticks": ""
            },
            "colorscale": [
             [
              0,
              "#0d0887"
             ],
             [
              0.1111111111111111,
              "#46039f"
             ],
             [
              0.2222222222222222,
              "#7201a8"
             ],
             [
              0.3333333333333333,
              "#9c179e"
             ],
             [
              0.4444444444444444,
              "#bd3786"
             ],
             [
              0.5555555555555556,
              "#d8576b"
             ],
             [
              0.6666666666666666,
              "#ed7953"
             ],
             [
              0.7777777777777778,
              "#fb9f3a"
             ],
             [
              0.8888888888888888,
              "#fdca26"
             ],
             [
              1,
              "#f0f921"
             ]
            ],
            "type": "heatmapgl"
           }
          ],
          "histogram": [
           {
            "marker": {
             "colorbar": {
              "outlinewidth": 0,
              "ticks": ""
             }
            },
            "type": "histogram"
           }
          ],
          "histogram2d": [
           {
            "colorbar": {
             "outlinewidth": 0,
             "ticks": ""
            },
            "colorscale": [
             [
              0,
              "#0d0887"
             ],
             [
              0.1111111111111111,
              "#46039f"
             ],
             [
              0.2222222222222222,
              "#7201a8"
             ],
             [
              0.3333333333333333,
              "#9c179e"
             ],
             [
              0.4444444444444444,
              "#bd3786"
             ],
             [
              0.5555555555555556,
              "#d8576b"
             ],
             [
              0.6666666666666666,
              "#ed7953"
             ],
             [
              0.7777777777777778,
              "#fb9f3a"
             ],
             [
              0.8888888888888888,
              "#fdca26"
             ],
             [
              1,
              "#f0f921"
             ]
            ],
            "type": "histogram2d"
           }
          ],
          "histogram2dcontour": [
           {
            "colorbar": {
             "outlinewidth": 0,
             "ticks": ""
            },
            "colorscale": [
             [
              0,
              "#0d0887"
             ],
             [
              0.1111111111111111,
              "#46039f"
             ],
             [
              0.2222222222222222,
              "#7201a8"
             ],
             [
              0.3333333333333333,
              "#9c179e"
             ],
             [
              0.4444444444444444,
              "#bd3786"
             ],
             [
              0.5555555555555556,
              "#d8576b"
             ],
             [
              0.6666666666666666,
              "#ed7953"
             ],
             [
              0.7777777777777778,
              "#fb9f3a"
             ],
             [
              0.8888888888888888,
              "#fdca26"
             ],
             [
              1,
              "#f0f921"
             ]
            ],
            "type": "histogram2dcontour"
           }
          ],
          "mesh3d": [
           {
            "colorbar": {
             "outlinewidth": 0,
             "ticks": ""
            },
            "type": "mesh3d"
           }
          ],
          "parcoords": [
           {
            "line": {
             "colorbar": {
              "outlinewidth": 0,
              "ticks": ""
             }
            },
            "type": "parcoords"
           }
          ],
          "pie": [
           {
            "automargin": true,
            "type": "pie"
           }
          ],
          "scatter": [
           {
            "marker": {
             "colorbar": {
              "outlinewidth": 0,
              "ticks": ""
             }
            },
            "type": "scatter"
           }
          ],
          "scatter3d": [
           {
            "line": {
             "colorbar": {
              "outlinewidth": 0,
              "ticks": ""
             }
            },
            "marker": {
             "colorbar": {
              "outlinewidth": 0,
              "ticks": ""
             }
            },
            "type": "scatter3d"
           }
          ],
          "scattercarpet": [
           {
            "marker": {
             "colorbar": {
              "outlinewidth": 0,
              "ticks": ""
             }
            },
            "type": "scattercarpet"
           }
          ],
          "scattergeo": [
           {
            "marker": {
             "colorbar": {
              "outlinewidth": 0,
              "ticks": ""
             }
            },
            "type": "scattergeo"
           }
          ],
          "scattergl": [
           {
            "marker": {
             "colorbar": {
              "outlinewidth": 0,
              "ticks": ""
             }
            },
            "type": "scattergl"
           }
          ],
          "scattermapbox": [
           {
            "marker": {
             "colorbar": {
              "outlinewidth": 0,
              "ticks": ""
             }
            },
            "type": "scattermapbox"
           }
          ],
          "scatterpolar": [
           {
            "marker": {
             "colorbar": {
              "outlinewidth": 0,
              "ticks": ""
             }
            },
            "type": "scatterpolar"
           }
          ],
          "scatterpolargl": [
           {
            "marker": {
             "colorbar": {
              "outlinewidth": 0,
              "ticks": ""
             }
            },
            "type": "scatterpolargl"
           }
          ],
          "scatterternary": [
           {
            "marker": {
             "colorbar": {
              "outlinewidth": 0,
              "ticks": ""
             }
            },
            "type": "scatterternary"
           }
          ],
          "surface": [
           {
            "colorbar": {
             "outlinewidth": 0,
             "ticks": ""
            },
            "colorscale": [
             [
              0,
              "#0d0887"
             ],
             [
              0.1111111111111111,
              "#46039f"
             ],
             [
              0.2222222222222222,
              "#7201a8"
             ],
             [
              0.3333333333333333,
              "#9c179e"
             ],
             [
              0.4444444444444444,
              "#bd3786"
             ],
             [
              0.5555555555555556,
              "#d8576b"
             ],
             [
              0.6666666666666666,
              "#ed7953"
             ],
             [
              0.7777777777777778,
              "#fb9f3a"
             ],
             [
              0.8888888888888888,
              "#fdca26"
             ],
             [
              1,
              "#f0f921"
             ]
            ],
            "type": "surface"
           }
          ],
          "table": [
           {
            "cells": {
             "fill": {
              "color": "#EBF0F8"
             },
             "line": {
              "color": "white"
             }
            },
            "header": {
             "fill": {
              "color": "#C8D4E3"
             },
             "line": {
              "color": "white"
             }
            },
            "type": "table"
           }
          ]
         },
         "layout": {
          "annotationdefaults": {
           "arrowcolor": "#2a3f5f",
           "arrowhead": 0,
           "arrowwidth": 1
          },
          "autotypenumbers": "strict",
          "coloraxis": {
           "colorbar": {
            "outlinewidth": 0,
            "ticks": ""
           }
          },
          "colorscale": {
           "diverging": [
            [
             0,
             "#8e0152"
            ],
            [
             0.1,
             "#c51b7d"
            ],
            [
             0.2,
             "#de77ae"
            ],
            [
             0.3,
             "#f1b6da"
            ],
            [
             0.4,
             "#fde0ef"
            ],
            [
             0.5,
             "#f7f7f7"
            ],
            [
             0.6,
             "#e6f5d0"
            ],
            [
             0.7,
             "#b8e186"
            ],
            [
             0.8,
             "#7fbc41"
            ],
            [
             0.9,
             "#4d9221"
            ],
            [
             1,
             "#276419"
            ]
           ],
           "sequential": [
            [
             0,
             "#0d0887"
            ],
            [
             0.1111111111111111,
             "#46039f"
            ],
            [
             0.2222222222222222,
             "#7201a8"
            ],
            [
             0.3333333333333333,
             "#9c179e"
            ],
            [
             0.4444444444444444,
             "#bd3786"
            ],
            [
             0.5555555555555556,
             "#d8576b"
            ],
            [
             0.6666666666666666,
             "#ed7953"
            ],
            [
             0.7777777777777778,
             "#fb9f3a"
            ],
            [
             0.8888888888888888,
             "#fdca26"
            ],
            [
             1,
             "#f0f921"
            ]
           ],
           "sequentialminus": [
            [
             0,
             "#0d0887"
            ],
            [
             0.1111111111111111,
             "#46039f"
            ],
            [
             0.2222222222222222,
             "#7201a8"
            ],
            [
             0.3333333333333333,
             "#9c179e"
            ],
            [
             0.4444444444444444,
             "#bd3786"
            ],
            [
             0.5555555555555556,
             "#d8576b"
            ],
            [
             0.6666666666666666,
             "#ed7953"
            ],
            [
             0.7777777777777778,
             "#fb9f3a"
            ],
            [
             0.8888888888888888,
             "#fdca26"
            ],
            [
             1,
             "#f0f921"
            ]
           ]
          },
          "colorway": [
           "#636efa",
           "#EF553B",
           "#00cc96",
           "#ab63fa",
           "#FFA15A",
           "#19d3f3",
           "#FF6692",
           "#B6E880",
           "#FF97FF",
           "#FECB52"
          ],
          "font": {
           "color": "#2a3f5f"
          },
          "geo": {
           "bgcolor": "white",
           "lakecolor": "white",
           "landcolor": "white",
           "showlakes": true,
           "showland": true,
           "subunitcolor": "#C8D4E3"
          },
          "hoverlabel": {
           "align": "left"
          },
          "hovermode": "closest",
          "mapbox": {
           "style": "light"
          },
          "paper_bgcolor": "white",
          "plot_bgcolor": "white",
          "polar": {
           "angularaxis": {
            "gridcolor": "#EBF0F8",
            "linecolor": "#EBF0F8",
            "ticks": ""
           },
           "bgcolor": "white",
           "radialaxis": {
            "gridcolor": "#EBF0F8",
            "linecolor": "#EBF0F8",
            "ticks": ""
           }
          },
          "scene": {
           "xaxis": {
            "backgroundcolor": "white",
            "gridcolor": "#DFE8F3",
            "gridwidth": 2,
            "linecolor": "#EBF0F8",
            "showbackground": true,
            "ticks": "",
            "zerolinecolor": "#EBF0F8"
           },
           "yaxis": {
            "backgroundcolor": "white",
            "gridcolor": "#DFE8F3",
            "gridwidth": 2,
            "linecolor": "#EBF0F8",
            "showbackground": true,
            "ticks": "",
            "zerolinecolor": "#EBF0F8"
           },
           "zaxis": {
            "backgroundcolor": "white",
            "gridcolor": "#DFE8F3",
            "gridwidth": 2,
            "linecolor": "#EBF0F8",
            "showbackground": true,
            "ticks": "",
            "zerolinecolor": "#EBF0F8"
           }
          },
          "shapedefaults": {
           "line": {
            "color": "#2a3f5f"
           }
          },
          "ternary": {
           "aaxis": {
            "gridcolor": "#DFE8F3",
            "linecolor": "#A2B1C6",
            "ticks": ""
           },
           "baxis": {
            "gridcolor": "#DFE8F3",
            "linecolor": "#A2B1C6",
            "ticks": ""
           },
           "bgcolor": "white",
           "caxis": {
            "gridcolor": "#DFE8F3",
            "linecolor": "#A2B1C6",
            "ticks": ""
           }
          },
          "title": {
           "x": 0.05
          },
          "xaxis": {
           "automargin": true,
           "gridcolor": "#EBF0F8",
           "linecolor": "#EBF0F8",
           "ticks": "",
           "title": {
            "standoff": 15
           },
           "zerolinecolor": "#EBF0F8",
           "zerolinewidth": 2
          },
          "yaxis": {
           "automargin": true,
           "gridcolor": "#EBF0F8",
           "linecolor": "#EBF0F8",
           "ticks": "",
           "title": {
            "standoff": 15
           },
           "zerolinecolor": "#EBF0F8",
           "zerolinewidth": 2
          }
         }
        },
        "title": {
         "text": "Token Prices by Subset",
         "x": 0.5,
         "xanchor": "center",
         "y": 0.9,
         "yanchor": "top"
        },
        "xaxis": {
         "anchor": "y",
         "domain": [
          0,
          0.45
         ],
         "title": {
          "text": "Time"
         }
        },
        "xaxis2": {
         "anchor": "y2",
         "domain": [
          0.55,
          1
         ],
         "title": {
          "text": "Time"
         }
        },
        "yaxis": {
         "anchor": "x",
         "domain": [
          0,
          1
         ],
         "title": {
          "text": "Price (USD)"
         }
        },
        "yaxis2": {
         "anchor": "x2",
         "domain": [
          0,
          1
         ]
        }
       }
      }
     },
     "metadata": {},
     "output_type": "display_data"
    }
   ],
   "source": [
    "visualizations.plot_token_price_per_subset(\n",
    "    df,\n",
    "    scenario_names={\n",
    "        0: \"downside\",\n",
    "    }\n",
    ")"
   ]
  },
  {
   "cell_type": "code",
   "execution_count": 42,
   "metadata": {},
   "outputs": [
    {
     "data": {
      "application/vnd.plotly.v1+json": {
       "config": {
        "plotlyServerURL": "https://plot.ly"
       },
       "data": [
        {
         "line": {
          "color": "#1f77b4",
          "dash": "dot"
         },
         "name": "AVL Security %",
         "type": "scatter",
         "x": [
          0,
          1,
          1,
          1,
          1,
          1,
          1,
          1,
          2,
          2,
          2,
          2,
          2,
          2,
          2,
          3,
          3,
          3,
          3,
          3,
          3,
          3,
          4,
          4,
          4,
          4,
          4,
          4,
          4,
          5,
          5,
          5,
          5,
          5,
          5,
          5,
          6,
          6,
          6,
          6,
          6,
          6,
          6,
          7,
          7,
          7,
          7,
          7,
          7,
          7,
          8,
          8,
          8,
          8,
          8,
          8,
          8,
          9,
          9,
          9,
          9,
          9,
          9,
          9,
          10,
          10,
          10,
          10,
          10,
          10,
          10,
          11,
          11,
          11,
          11,
          11,
          11,
          11,
          12,
          12,
          12,
          12,
          12,
          12,
          12,
          13,
          13,
          13,
          13,
          13,
          13,
          13,
          14,
          14,
          14,
          14,
          14,
          14,
          14,
          15,
          15,
          15,
          15,
          15,
          15,
          15,
          16,
          16,
          16,
          16,
          16,
          16,
          16,
          17,
          17,
          17,
          17,
          17,
          17,
          17,
          18,
          18,
          18,
          18,
          18,
          18,
          18,
          19,
          19,
          19,
          19,
          19,
          19,
          19,
          20,
          20,
          20,
          20,
          20,
          20,
          20,
          21,
          21,
          21,
          21,
          21,
          21,
          21,
          22,
          22,
          22,
          22,
          22,
          22,
          22,
          23,
          23,
          23,
          23,
          23,
          23,
          23,
          24,
          24,
          24,
          24,
          24,
          24,
          24,
          25,
          25,
          25,
          25,
          25,
          25,
          25,
          26,
          26,
          26,
          26,
          26,
          26,
          26,
          27,
          27,
          27,
          27,
          27,
          27,
          27,
          28,
          28,
          28,
          28,
          28,
          28,
          28,
          29,
          29,
          29,
          29,
          29,
          29,
          29,
          30,
          30,
          30,
          30,
          30,
          30,
          30,
          31,
          31,
          31,
          31,
          31,
          31,
          31,
          32,
          32,
          32,
          32,
          32,
          32,
          32,
          33,
          33,
          33,
          33,
          33,
          33,
          33,
          34,
          34,
          34,
          34,
          34,
          34,
          34,
          35,
          35,
          35,
          35,
          35,
          35,
          35,
          36,
          36,
          36,
          36,
          36,
          36,
          36,
          37,
          37,
          37,
          37,
          37,
          37,
          37,
          38,
          38,
          38,
          38,
          38,
          38,
          38,
          39,
          39,
          39,
          39,
          39,
          39,
          39,
          40,
          40,
          40,
          40,
          40,
          40,
          40,
          41,
          41,
          41,
          41,
          41,
          41,
          41,
          42,
          42,
          42,
          42,
          42,
          42,
          42,
          43,
          43,
          43,
          43,
          43,
          43,
          43,
          44,
          44,
          44,
          44,
          44,
          44,
          44
         ],
         "y": [
          20,
          20,
          20,
          20,
          20,
          20,
          20,
          20,
          20,
          20,
          20,
          19.92340265724889,
          19.92340265724889,
          19.92340265724889,
          19.92340265724889,
          19.92340265724889,
          19.92340265724889,
          19.92340265724889,
          14.727219431345295,
          14.727219431345295,
          14.727219431345295,
          14.727219431345295,
          14.727219431345295,
          14.727219431345295,
          14.727219431345295,
          10.276231671261227,
          10.276231671261227,
          10.276231671261227,
          10.276231671261227,
          10.276231671261227,
          10.276231671261227,
          10.276231671261227,
          17.112447946981142,
          17.112447946981142,
          17.112447946981142,
          17.112447946981142,
          17.112447946981142,
          17.112447946981142,
          17.112447946981142,
          15.60392019901152,
          15.60392019901152,
          15.60392019901152,
          15.60392019901152,
          15.60392019901152,
          15.60392019901152,
          15.60392019901152,
          17.322198537950168,
          17.322198537950168,
          17.322198537950168,
          17.322198537950168,
          17.322198537950168,
          17.322198537950168,
          17.322198537950168,
          16.793983919374504,
          16.793983919374504,
          16.793983919374504,
          16.793983919374504,
          16.793983919374504,
          16.793983919374504,
          16.793983919374504,
          23.35884298549916,
          23.35884298549916,
          23.35884298549916,
          23.35884298549916,
          23.35884298549916,
          23.35884298549916,
          23.35884298549916,
          17.764628132060896,
          17.764628132060896,
          17.764628132060896,
          17.764628132060896,
          17.764628132060896,
          17.764628132060896,
          17.764628132060896,
          16.13163369498404,
          16.13163369498404,
          16.13163369498404,
          16.13163369498404,
          16.13163369498404,
          16.13163369498404,
          16.13163369498404,
          11.111156257171869,
          11.111156257171869,
          11.111156257171869,
          11.111156257171869,
          11.111156257171869,
          11.111156257171869,
          11.111156257171869,
          13.637063272459073,
          13.637063272459073,
          13.637063272459073,
          13.637063272459073,
          13.637063272459073,
          13.637063272459073,
          13.637063272459073,
          14.77178214809265,
          14.77178214809265,
          14.77178214809265,
          14.77178214809265,
          14.77178214809265,
          14.77178214809265,
          14.77178214809265,
          12.446753012388335,
          12.446753012388335,
          12.446753012388335,
          12.446753012388335,
          12.446753012388335,
          12.446753012388335,
          12.446753012388335,
          16.53868879448565,
          16.53868879448565,
          16.53868879448565,
          16.53868879448565,
          16.53868879448565,
          16.53868879448565,
          16.53868879448565,
          14.469213880513445,
          14.469213880513445,
          14.469213880513445,
          14.469213880513445,
          14.469213880513445,
          14.469213880513445,
          14.469213880513445,
          12.36531271656089,
          12.36531271656089,
          12.36531271656089,
          12.36531271656089,
          12.36531271656089,
          12.36531271656089,
          12.36531271656089,
          12.072435269896529,
          12.072435269896529,
          12.072435269896529,
          12.072435269896529,
          12.072435269896529,
          12.072435269896529,
          12.072435269896529,
          10.854115941291518,
          10.854115941291518,
          10.854115941291518,
          10.854115941291518,
          10.854115941291518,
          10.854115941291518,
          10.854115941291518,
          72.99290175718035,
          72.99290175718035,
          72.99290175718035,
          72.99290175718035,
          72.99290175718035,
          72.99290175718035,
          72.99290175718035,
          77.33981782673605,
          77.33981782673605,
          77.33981782673605,
          77.33981782673605,
          77.33981782673605,
          77.33981782673605,
          77.33981782673605,
          79.84987940032715,
          79.84987940032715,
          79.84987940032715,
          79.84987940032715,
          79.84987940032715,
          79.84987940032715,
          79.84987940032715,
          83.03102873893002,
          83.03102873893002,
          83.03102873893002,
          83.03102873893002,
          83.03102873893002,
          83.03102873893002,
          83.03102873893002,
          82.51440956935176,
          82.51440956935176,
          82.51440956935176,
          82.51440956935176,
          82.51440956935176,
          82.51440956935176,
          82.51440956935176,
          81.31091885413373,
          81.31091885413373,
          81.31091885413373,
          81.31091885413373,
          81.31091885413373,
          81.31091885413373,
          81.31091885413373,
          80.55495797333649,
          80.55495797333649,
          80.55495797333649,
          80.55495797333649,
          80.55495797333649,
          80.55495797333649,
          80.55495797333649,
          79.35003858961925,
          79.35003858961925,
          79.35003858961925,
          79.35003858961925,
          79.35003858961925,
          79.35003858961925,
          79.35003858961925,
          78.98400472571345,
          78.98400472571345,
          78.98400472571345,
          78.98400472571345,
          78.98400472571345,
          78.98400472571345,
          78.98400472571345,
          74.536998840677,
          74.536998840677,
          74.536998840677,
          74.536998840677,
          74.536998840677,
          74.536998840677,
          74.536998840677,
          75.31715385885252,
          75.31715385885252,
          75.31715385885252,
          75.31715385885252,
          75.31715385885252,
          75.31715385885252,
          75.31715385885252,
          72.43431524927641,
          72.43431524927641,
          72.43431524927641,
          72.43431524927641,
          72.43431524927641,
          72.43431524927641,
          72.43431524927641,
          72.86639191357348,
          72.86639191357348,
          72.86639191357348,
          72.86639191357348,
          72.86639191357348,
          72.86639191357348,
          72.86639191357348,
          72.48335980770733,
          72.48335980770733,
          72.48335980770733,
          72.48335980770733,
          72.48335980770733,
          72.48335980770733,
          72.48335980770733,
          71.95323127392874,
          71.95323127392874,
          71.95323127392874,
          71.95323127392874,
          71.95323127392874,
          71.95323127392874,
          71.95323127392874,
          69.43854831808682,
          69.43854831808682,
          69.43854831808682,
          69.43854831808682,
          69.43854831808682,
          69.43854831808682,
          69.43854831808682,
          71.21340321596082,
          71.21340321596082,
          71.21340321596082,
          71.21340321596082,
          71.21340321596082,
          71.21340321596082,
          71.21340321596082,
          70.91918843141273,
          70.91918843141273,
          70.91918843141273,
          70.91918843141273,
          70.91918843141273,
          70.91918843141273,
          70.91918843141273,
          78.48226412221844,
          78.48226412221844,
          78.48226412221844,
          78.48226412221844,
          78.48226412221844,
          78.48226412221844,
          78.48226412221844,
          75.7211276268954,
          75.7211276268954,
          75.7211276268954,
          75.7211276268954,
          75.7211276268954,
          75.7211276268954,
          75.7211276268954,
          76.54025550531091,
          76.54025550531091,
          76.54025550531091,
          76.54025550531091,
          76.54025550531091,
          76.54025550531091,
          76.54025550531091,
          74.94424489128231,
          74.94424489128231,
          74.94424489128231,
          74.94424489128231,
          74.94424489128231,
          74.94424489128231,
          74.94424489128231,
          72.96330711346648,
          72.96330711346648,
          72.96330711346648,
          72.96330711346648,
          72.96330711346648,
          72.96330711346648,
          72.96330711346648,
          73.46672076530132,
          73.46672076530132,
          73.46672076530132,
          73.46672076530132
         ]
        },
        {
         "line": {
          "color": "#ff7f0e",
          "dash": "dot"
         },
         "name": "ETH Security %",
         "type": "scatter",
         "x": [
          0,
          1,
          1,
          1,
          1,
          1,
          1,
          1,
          2,
          2,
          2,
          2,
          2,
          2,
          2,
          3,
          3,
          3,
          3,
          3,
          3,
          3,
          4,
          4,
          4,
          4,
          4,
          4,
          4,
          5,
          5,
          5,
          5,
          5,
          5,
          5,
          6,
          6,
          6,
          6,
          6,
          6,
          6,
          7,
          7,
          7,
          7,
          7,
          7,
          7,
          8,
          8,
          8,
          8,
          8,
          8,
          8,
          9,
          9,
          9,
          9,
          9,
          9,
          9,
          10,
          10,
          10,
          10,
          10,
          10,
          10,
          11,
          11,
          11,
          11,
          11,
          11,
          11,
          12,
          12,
          12,
          12,
          12,
          12,
          12,
          13,
          13,
          13,
          13,
          13,
          13,
          13,
          14,
          14,
          14,
          14,
          14,
          14,
          14,
          15,
          15,
          15,
          15,
          15,
          15,
          15,
          16,
          16,
          16,
          16,
          16,
          16,
          16,
          17,
          17,
          17,
          17,
          17,
          17,
          17,
          18,
          18,
          18,
          18,
          18,
          18,
          18,
          19,
          19,
          19,
          19,
          19,
          19,
          19,
          20,
          20,
          20,
          20,
          20,
          20,
          20,
          21,
          21,
          21,
          21,
          21,
          21,
          21,
          22,
          22,
          22,
          22,
          22,
          22,
          22,
          23,
          23,
          23,
          23,
          23,
          23,
          23,
          24,
          24,
          24,
          24,
          24,
          24,
          24,
          25,
          25,
          25,
          25,
          25,
          25,
          25,
          26,
          26,
          26,
          26,
          26,
          26,
          26,
          27,
          27,
          27,
          27,
          27,
          27,
          27,
          28,
          28,
          28,
          28,
          28,
          28,
          28,
          29,
          29,
          29,
          29,
          29,
          29,
          29,
          30,
          30,
          30,
          30,
          30,
          30,
          30,
          31,
          31,
          31,
          31,
          31,
          31,
          31,
          32,
          32,
          32,
          32,
          32,
          32,
          32,
          33,
          33,
          33,
          33,
          33,
          33,
          33,
          34,
          34,
          34,
          34,
          34,
          34,
          34,
          35,
          35,
          35,
          35,
          35,
          35,
          35,
          36,
          36,
          36,
          36,
          36,
          36,
          36,
          37,
          37,
          37,
          37,
          37,
          37,
          37,
          38,
          38,
          38,
          38,
          38,
          38,
          38,
          39,
          39,
          39,
          39,
          39,
          39,
          39,
          40,
          40,
          40,
          40,
          40,
          40,
          40,
          41,
          41,
          41,
          41,
          41,
          41,
          41,
          42,
          42,
          42,
          42,
          42,
          42,
          42,
          43,
          43,
          43,
          43,
          43,
          43,
          43,
          44,
          44,
          44,
          44,
          44,
          44,
          44
         ],
         "y": [
          80,
          80,
          80,
          80,
          80,
          80,
          80,
          80,
          80,
          80,
          80,
          80.07659734275111,
          80.07659734275111,
          80.07659734275111,
          80.07659734275111,
          80.07659734275111,
          80.07659734275111,
          80.07659734275111,
          85.2727805686547,
          85.2727805686547,
          85.2727805686547,
          85.2727805686547,
          85.2727805686547,
          85.2727805686547,
          85.2727805686547,
          89.72376832873879,
          89.72376832873879,
          89.72376832873879,
          89.72376832873879,
          89.72376832873879,
          89.72376832873879,
          89.72376832873879,
          82.88755205301887,
          82.88755205301887,
          82.88755205301887,
          82.88755205301887,
          82.88755205301887,
          82.88755205301887,
          82.88755205301887,
          84.39607980098847,
          84.39607980098847,
          84.39607980098847,
          84.39607980098847,
          84.39607980098847,
          84.39607980098847,
          84.39607980098847,
          82.67780146204983,
          82.67780146204983,
          82.67780146204983,
          82.67780146204983,
          82.67780146204983,
          82.67780146204983,
          82.67780146204983,
          83.2060160806255,
          83.2060160806255,
          83.2060160806255,
          83.2060160806255,
          83.2060160806255,
          83.2060160806255,
          83.2060160806255,
          76.64115701450083,
          76.64115701450083,
          76.64115701450083,
          76.64115701450083,
          76.64115701450083,
          76.64115701450083,
          76.64115701450083,
          82.23537186793911,
          82.23537186793911,
          82.23537186793911,
          82.23537186793911,
          82.23537186793911,
          82.23537186793911,
          82.23537186793911,
          83.86836630501597,
          83.86836630501597,
          83.86836630501597,
          83.86836630501597,
          83.86836630501597,
          83.86836630501597,
          83.86836630501597,
          88.88884374282813,
          88.88884374282813,
          88.88884374282813,
          88.88884374282813,
          88.88884374282813,
          88.88884374282813,
          88.88884374282813,
          86.36293672754093,
          86.36293672754093,
          86.36293672754093,
          86.36293672754093,
          86.36293672754093,
          86.36293672754093,
          86.36293672754093,
          85.22821785190735,
          85.22821785190735,
          85.22821785190735,
          85.22821785190735,
          85.22821785190735,
          85.22821785190735,
          85.22821785190735,
          87.55324698761167,
          87.55324698761167,
          87.55324698761167,
          87.55324698761167,
          87.55324698761167,
          87.55324698761167,
          87.55324698761167,
          83.46131120551435,
          83.46131120551435,
          83.46131120551435,
          83.46131120551435,
          83.46131120551435,
          83.46131120551435,
          83.46131120551435,
          85.53078611948655,
          85.53078611948655,
          85.53078611948655,
          85.53078611948655,
          85.53078611948655,
          85.53078611948655,
          85.53078611948655,
          87.6346872834391,
          87.6346872834391,
          87.6346872834391,
          87.6346872834391,
          87.6346872834391,
          87.6346872834391,
          87.6346872834391,
          87.92756473010347,
          87.92756473010347,
          87.92756473010347,
          87.92756473010347,
          87.92756473010347,
          87.92756473010347,
          87.92756473010347,
          89.14588405870848,
          89.14588405870848,
          89.14588405870848,
          89.14588405870848,
          89.14588405870848,
          89.14588405870848,
          89.14588405870848,
          27.007098242819644,
          27.007098242819644,
          27.007098242819644,
          27.007098242819644,
          27.007098242819644,
          27.007098242819644,
          27.007098242819644,
          22.660182173263955,
          22.660182173263955,
          22.660182173263955,
          22.660182173263955,
          22.660182173263955,
          22.660182173263955,
          22.660182173263955,
          20.150120599672842,
          20.150120599672842,
          20.150120599672842,
          20.150120599672842,
          20.150120599672842,
          20.150120599672842,
          20.150120599672842,
          16.96897126106998,
          16.96897126106998,
          16.96897126106998,
          16.96897126106998,
          16.96897126106998,
          16.96897126106998,
          16.96897126106998,
          17.48559043064824,
          17.48559043064824,
          17.48559043064824,
          17.48559043064824,
          17.48559043064824,
          17.48559043064824,
          17.48559043064824,
          18.689081145866265,
          18.689081145866265,
          18.689081145866265,
          18.689081145866265,
          18.689081145866265,
          18.689081145866265,
          18.689081145866265,
          19.44504202666352,
          19.44504202666352,
          19.44504202666352,
          19.44504202666352,
          19.44504202666352,
          19.44504202666352,
          19.44504202666352,
          20.649961410380758,
          20.649961410380758,
          20.649961410380758,
          20.649961410380758,
          20.649961410380758,
          20.649961410380758,
          20.649961410380758,
          21.015995274286563,
          21.015995274286563,
          21.015995274286563,
          21.015995274286563,
          21.015995274286563,
          21.015995274286563,
          21.015995274286563,
          25.463001159322996,
          25.463001159322996,
          25.463001159322996,
          25.463001159322996,
          25.463001159322996,
          25.463001159322996,
          25.463001159322996,
          24.68284614114748,
          24.68284614114748,
          24.68284614114748,
          24.68284614114748,
          24.68284614114748,
          24.68284614114748,
          24.68284614114748,
          27.56568475072359,
          27.56568475072359,
          27.56568475072359,
          27.56568475072359,
          27.56568475072359,
          27.56568475072359,
          27.56568475072359,
          27.13360808642652,
          27.13360808642652,
          27.13360808642652,
          27.13360808642652,
          27.13360808642652,
          27.13360808642652,
          27.13360808642652,
          27.516640192292673,
          27.516640192292673,
          27.516640192292673,
          27.516640192292673,
          27.516640192292673,
          27.516640192292673,
          27.516640192292673,
          28.046768726071257,
          28.046768726071257,
          28.046768726071257,
          28.046768726071257,
          28.046768726071257,
          28.046768726071257,
          28.046768726071257,
          30.561451681913187,
          30.561451681913187,
          30.561451681913187,
          30.561451681913187,
          30.561451681913187,
          30.561451681913187,
          30.561451681913187,
          28.78659678403918,
          28.78659678403918,
          28.78659678403918,
          28.78659678403918,
          28.78659678403918,
          28.78659678403918,
          28.78659678403918,
          29.080811568587254,
          29.080811568587254,
          29.080811568587254,
          29.080811568587254,
          29.080811568587254,
          29.080811568587254,
          29.080811568587254,
          21.517735877781572,
          21.517735877781572,
          21.517735877781572,
          21.517735877781572,
          21.517735877781572,
          21.517735877781572,
          21.517735877781572,
          24.2788723731046,
          24.2788723731046,
          24.2788723731046,
          24.2788723731046,
          24.2788723731046,
          24.2788723731046,
          24.2788723731046,
          23.45974449468908,
          23.45974449468908,
          23.45974449468908,
          23.45974449468908,
          23.45974449468908,
          23.45974449468908,
          23.45974449468908,
          25.05575510871769,
          25.05575510871769,
          25.05575510871769,
          25.05575510871769,
          25.05575510871769,
          25.05575510871769,
          25.05575510871769,
          27.03669288653353,
          27.03669288653353,
          27.03669288653353,
          27.03669288653353,
          27.03669288653353,
          27.03669288653353,
          27.03669288653353,
          26.533279234698675,
          26.533279234698675,
          26.533279234698675,
          26.533279234698675
         ]
        }
       ],
       "layout": {
        "font": {
         "color": "black",
         "family": "Arial",
         "size": 18
        },
        "hovermode": "x unified",
        "legend": {
         "orientation": "h",
         "x": 0.5,
         "xanchor": "center",
         "y": -0.5,
         "yanchor": "bottom"
        },
        "paper_bgcolor": "rgba(255, 255, 255, 1)",
        "plot_bgcolor": "rgba(255, 255, 255, 1)",
        "template": {
         "data": {
          "bar": [
           {
            "error_x": {
             "color": "#2a3f5f"
            },
            "error_y": {
             "color": "#2a3f5f"
            },
            "marker": {
             "line": {
              "color": "white",
              "width": 0.5
             }
            },
            "type": "bar"
           }
          ],
          "barpolar": [
           {
            "marker": {
             "line": {
              "color": "white",
              "width": 0.5
             }
            },
            "type": "barpolar"
           }
          ],
          "carpet": [
           {
            "aaxis": {
             "endlinecolor": "#2a3f5f",
             "gridcolor": "#C8D4E3",
             "linecolor": "#C8D4E3",
             "minorgridcolor": "#C8D4E3",
             "startlinecolor": "#2a3f5f"
            },
            "baxis": {
             "endlinecolor": "#2a3f5f",
             "gridcolor": "#C8D4E3",
             "linecolor": "#C8D4E3",
             "minorgridcolor": "#C8D4E3",
             "startlinecolor": "#2a3f5f"
            },
            "type": "carpet"
           }
          ],
          "choropleth": [
           {
            "colorbar": {
             "outlinewidth": 0,
             "ticks": ""
            },
            "type": "choropleth"
           }
          ],
          "contour": [
           {
            "colorbar": {
             "outlinewidth": 0,
             "ticks": ""
            },
            "colorscale": [
             [
              0,
              "#0d0887"
             ],
             [
              0.1111111111111111,
              "#46039f"
             ],
             [
              0.2222222222222222,
              "#7201a8"
             ],
             [
              0.3333333333333333,
              "#9c179e"
             ],
             [
              0.4444444444444444,
              "#bd3786"
             ],
             [
              0.5555555555555556,
              "#d8576b"
             ],
             [
              0.6666666666666666,
              "#ed7953"
             ],
             [
              0.7777777777777778,
              "#fb9f3a"
             ],
             [
              0.8888888888888888,
              "#fdca26"
             ],
             [
              1,
              "#f0f921"
             ]
            ],
            "type": "contour"
           }
          ],
          "contourcarpet": [
           {
            "colorbar": {
             "outlinewidth": 0,
             "ticks": ""
            },
            "type": "contourcarpet"
           }
          ],
          "heatmap": [
           {
            "colorbar": {
             "outlinewidth": 0,
             "ticks": ""
            },
            "colorscale": [
             [
              0,
              "#0d0887"
             ],
             [
              0.1111111111111111,
              "#46039f"
             ],
             [
              0.2222222222222222,
              "#7201a8"
             ],
             [
              0.3333333333333333,
              "#9c179e"
             ],
             [
              0.4444444444444444,
              "#bd3786"
             ],
             [
              0.5555555555555556,
              "#d8576b"
             ],
             [
              0.6666666666666666,
              "#ed7953"
             ],
             [
              0.7777777777777778,
              "#fb9f3a"
             ],
             [
              0.8888888888888888,
              "#fdca26"
             ],
             [
              1,
              "#f0f921"
             ]
            ],
            "type": "heatmap"
           }
          ],
          "heatmapgl": [
           {
            "colorbar": {
             "outlinewidth": 0,
             "ticks": ""
            },
            "colorscale": [
             [
              0,
              "#0d0887"
             ],
             [
              0.1111111111111111,
              "#46039f"
             ],
             [
              0.2222222222222222,
              "#7201a8"
             ],
             [
              0.3333333333333333,
              "#9c179e"
             ],
             [
              0.4444444444444444,
              "#bd3786"
             ],
             [
              0.5555555555555556,
              "#d8576b"
             ],
             [
              0.6666666666666666,
              "#ed7953"
             ],
             [
              0.7777777777777778,
              "#fb9f3a"
             ],
             [
              0.8888888888888888,
              "#fdca26"
             ],
             [
              1,
              "#f0f921"
             ]
            ],
            "type": "heatmapgl"
           }
          ],
          "histogram": [
           {
            "marker": {
             "colorbar": {
              "outlinewidth": 0,
              "ticks": ""
             }
            },
            "type": "histogram"
           }
          ],
          "histogram2d": [
           {
            "colorbar": {
             "outlinewidth": 0,
             "ticks": ""
            },
            "colorscale": [
             [
              0,
              "#0d0887"
             ],
             [
              0.1111111111111111,
              "#46039f"
             ],
             [
              0.2222222222222222,
              "#7201a8"
             ],
             [
              0.3333333333333333,
              "#9c179e"
             ],
             [
              0.4444444444444444,
              "#bd3786"
             ],
             [
              0.5555555555555556,
              "#d8576b"
             ],
             [
              0.6666666666666666,
              "#ed7953"
             ],
             [
              0.7777777777777778,
              "#fb9f3a"
             ],
             [
              0.8888888888888888,
              "#fdca26"
             ],
             [
              1,
              "#f0f921"
             ]
            ],
            "type": "histogram2d"
           }
          ],
          "histogram2dcontour": [
           {
            "colorbar": {
             "outlinewidth": 0,
             "ticks": ""
            },
            "colorscale": [
             [
              0,
              "#0d0887"
             ],
             [
              0.1111111111111111,
              "#46039f"
             ],
             [
              0.2222222222222222,
              "#7201a8"
             ],
             [
              0.3333333333333333,
              "#9c179e"
             ],
             [
              0.4444444444444444,
              "#bd3786"
             ],
             [
              0.5555555555555556,
              "#d8576b"
             ],
             [
              0.6666666666666666,
              "#ed7953"
             ],
             [
              0.7777777777777778,
              "#fb9f3a"
             ],
             [
              0.8888888888888888,
              "#fdca26"
             ],
             [
              1,
              "#f0f921"
             ]
            ],
            "type": "histogram2dcontour"
           }
          ],
          "mesh3d": [
           {
            "colorbar": {
             "outlinewidth": 0,
             "ticks": ""
            },
            "type": "mesh3d"
           }
          ],
          "parcoords": [
           {
            "line": {
             "colorbar": {
              "outlinewidth": 0,
              "ticks": ""
             }
            },
            "type": "parcoords"
           }
          ],
          "pie": [
           {
            "automargin": true,
            "type": "pie"
           }
          ],
          "scatter": [
           {
            "marker": {
             "colorbar": {
              "outlinewidth": 0,
              "ticks": ""
             }
            },
            "type": "scatter"
           }
          ],
          "scatter3d": [
           {
            "line": {
             "colorbar": {
              "outlinewidth": 0,
              "ticks": ""
             }
            },
            "marker": {
             "colorbar": {
              "outlinewidth": 0,
              "ticks": ""
             }
            },
            "type": "scatter3d"
           }
          ],
          "scattercarpet": [
           {
            "marker": {
             "colorbar": {
              "outlinewidth": 0,
              "ticks": ""
             }
            },
            "type": "scattercarpet"
           }
          ],
          "scattergeo": [
           {
            "marker": {
             "colorbar": {
              "outlinewidth": 0,
              "ticks": ""
             }
            },
            "type": "scattergeo"
           }
          ],
          "scattergl": [
           {
            "marker": {
             "colorbar": {
              "outlinewidth": 0,
              "ticks": ""
             }
            },
            "type": "scattergl"
           }
          ],
          "scattermapbox": [
           {
            "marker": {
             "colorbar": {
              "outlinewidth": 0,
              "ticks": ""
             }
            },
            "type": "scattermapbox"
           }
          ],
          "scatterpolar": [
           {
            "marker": {
             "colorbar": {
              "outlinewidth": 0,
              "ticks": ""
             }
            },
            "type": "scatterpolar"
           }
          ],
          "scatterpolargl": [
           {
            "marker": {
             "colorbar": {
              "outlinewidth": 0,
              "ticks": ""
             }
            },
            "type": "scatterpolargl"
           }
          ],
          "scatterternary": [
           {
            "marker": {
             "colorbar": {
              "outlinewidth": 0,
              "ticks": ""
             }
            },
            "type": "scatterternary"
           }
          ],
          "surface": [
           {
            "colorbar": {
             "outlinewidth": 0,
             "ticks": ""
            },
            "colorscale": [
             [
              0,
              "#0d0887"
             ],
             [
              0.1111111111111111,
              "#46039f"
             ],
             [
              0.2222222222222222,
              "#7201a8"
             ],
             [
              0.3333333333333333,
              "#9c179e"
             ],
             [
              0.4444444444444444,
              "#bd3786"
             ],
             [
              0.5555555555555556,
              "#d8576b"
             ],
             [
              0.6666666666666666,
              "#ed7953"
             ],
             [
              0.7777777777777778,
              "#fb9f3a"
             ],
             [
              0.8888888888888888,
              "#fdca26"
             ],
             [
              1,
              "#f0f921"
             ]
            ],
            "type": "surface"
           }
          ],
          "table": [
           {
            "cells": {
             "fill": {
              "color": "#EBF0F8"
             },
             "line": {
              "color": "white"
             }
            },
            "header": {
             "fill": {
              "color": "#C8D4E3"
             },
             "line": {
              "color": "white"
             }
            },
            "type": "table"
           }
          ]
         },
         "layout": {
          "annotationdefaults": {
           "arrowcolor": "#2a3f5f",
           "arrowhead": 0,
           "arrowwidth": 1
          },
          "autotypenumbers": "strict",
          "coloraxis": {
           "colorbar": {
            "outlinewidth": 0,
            "ticks": ""
           }
          },
          "colorscale": {
           "diverging": [
            [
             0,
             "#8e0152"
            ],
            [
             0.1,
             "#c51b7d"
            ],
            [
             0.2,
             "#de77ae"
            ],
            [
             0.3,
             "#f1b6da"
            ],
            [
             0.4,
             "#fde0ef"
            ],
            [
             0.5,
             "#f7f7f7"
            ],
            [
             0.6,
             "#e6f5d0"
            ],
            [
             0.7,
             "#b8e186"
            ],
            [
             0.8,
             "#7fbc41"
            ],
            [
             0.9,
             "#4d9221"
            ],
            [
             1,
             "#276419"
            ]
           ],
           "sequential": [
            [
             0,
             "#0d0887"
            ],
            [
             0.1111111111111111,
             "#46039f"
            ],
            [
             0.2222222222222222,
             "#7201a8"
            ],
            [
             0.3333333333333333,
             "#9c179e"
            ],
            [
             0.4444444444444444,
             "#bd3786"
            ],
            [
             0.5555555555555556,
             "#d8576b"
            ],
            [
             0.6666666666666666,
             "#ed7953"
            ],
            [
             0.7777777777777778,
             "#fb9f3a"
            ],
            [
             0.8888888888888888,
             "#fdca26"
            ],
            [
             1,
             "#f0f921"
            ]
           ],
           "sequentialminus": [
            [
             0,
             "#0d0887"
            ],
            [
             0.1111111111111111,
             "#46039f"
            ],
            [
             0.2222222222222222,
             "#7201a8"
            ],
            [
             0.3333333333333333,
             "#9c179e"
            ],
            [
             0.4444444444444444,
             "#bd3786"
            ],
            [
             0.5555555555555556,
             "#d8576b"
            ],
            [
             0.6666666666666666,
             "#ed7953"
            ],
            [
             0.7777777777777778,
             "#fb9f3a"
            ],
            [
             0.8888888888888888,
             "#fdca26"
            ],
            [
             1,
             "#f0f921"
            ]
           ]
          },
          "colorway": [
           "#636efa",
           "#EF553B",
           "#00cc96",
           "#ab63fa",
           "#FFA15A",
           "#19d3f3",
           "#FF6692",
           "#B6E880",
           "#FF97FF",
           "#FECB52"
          ],
          "font": {
           "color": "#2a3f5f"
          },
          "geo": {
           "bgcolor": "white",
           "lakecolor": "white",
           "landcolor": "white",
           "showlakes": true,
           "showland": true,
           "subunitcolor": "#C8D4E3"
          },
          "hoverlabel": {
           "align": "left"
          },
          "hovermode": "closest",
          "mapbox": {
           "style": "light"
          },
          "paper_bgcolor": "white",
          "plot_bgcolor": "white",
          "polar": {
           "angularaxis": {
            "gridcolor": "#EBF0F8",
            "linecolor": "#EBF0F8",
            "ticks": ""
           },
           "bgcolor": "white",
           "radialaxis": {
            "gridcolor": "#EBF0F8",
            "linecolor": "#EBF0F8",
            "ticks": ""
           }
          },
          "scene": {
           "xaxis": {
            "backgroundcolor": "white",
            "gridcolor": "#DFE8F3",
            "gridwidth": 2,
            "linecolor": "#EBF0F8",
            "showbackground": true,
            "ticks": "",
            "zerolinecolor": "#EBF0F8"
           },
           "yaxis": {
            "backgroundcolor": "white",
            "gridcolor": "#DFE8F3",
            "gridwidth": 2,
            "linecolor": "#EBF0F8",
            "showbackground": true,
            "ticks": "",
            "zerolinecolor": "#EBF0F8"
           },
           "zaxis": {
            "backgroundcolor": "white",
            "gridcolor": "#DFE8F3",
            "gridwidth": 2,
            "linecolor": "#EBF0F8",
            "showbackground": true,
            "ticks": "",
            "zerolinecolor": "#EBF0F8"
           }
          },
          "shapedefaults": {
           "line": {
            "color": "#2a3f5f"
           }
          },
          "ternary": {
           "aaxis": {
            "gridcolor": "#DFE8F3",
            "linecolor": "#A2B1C6",
            "ticks": ""
           },
           "baxis": {
            "gridcolor": "#DFE8F3",
            "linecolor": "#A2B1C6",
            "ticks": ""
           },
           "bgcolor": "white",
           "caxis": {
            "gridcolor": "#DFE8F3",
            "linecolor": "#A2B1C6",
            "ticks": ""
           }
          },
          "title": {
           "x": 0.05
          },
          "xaxis": {
           "automargin": true,
           "gridcolor": "#EBF0F8",
           "linecolor": "#EBF0F8",
           "ticks": "",
           "title": {
            "standoff": 15
           },
           "zerolinecolor": "#EBF0F8",
           "zerolinewidth": 2
          },
          "yaxis": {
           "automargin": true,
           "gridcolor": "#EBF0F8",
           "linecolor": "#EBF0F8",
           "ticks": "",
           "title": {
            "standoff": 15
           },
           "zerolinecolor": "#EBF0F8",
           "zerolinewidth": 2
          }
         }
        },
        "title": {
         "text": "Security Pct",
         "x": 0.5,
         "xanchor": "center",
         "y": 0.9,
         "yanchor": "top"
        },
        "xaxis": {
         "title": {
          "text": "Timestep"
         }
        },
        "yaxis": {
         "title": {
          "text": "Security %"
         }
        }
       }
      }
     },
     "metadata": {},
     "output_type": "display_data"
    }
   ],
   "source": [
    "\n",
    "fig= visualizations.plot_security_pct(\n",
    "    df\n",
    ")\n",
    "pio.show(fig)\n"
   ]
  },
  {
   "cell_type": "code",
   "execution_count": 43,
   "metadata": {},
   "outputs": [
    {
     "data": {
      "application/vnd.plotly.v1+json": {
       "config": {
        "plotlyServerURL": "https://plot.ly"
       },
       "data": [
        {
         "line": {
          "color": "#1f77b4",
          "dash": "dot"
         },
         "name": "Avg overall yield %",
         "type": "scatter",
         "x": [
          0,
          1,
          1,
          1,
          1,
          1,
          1,
          1,
          2,
          2,
          2,
          2,
          2,
          2,
          2,
          3,
          3,
          3,
          3,
          3,
          3,
          3,
          4,
          4,
          4,
          4,
          4,
          4,
          4,
          5,
          5,
          5,
          5,
          5,
          5,
          5,
          6,
          6,
          6,
          6,
          6,
          6,
          6,
          7,
          7,
          7,
          7,
          7,
          7,
          7,
          8,
          8,
          8,
          8,
          8,
          8,
          8,
          9,
          9,
          9,
          9,
          9,
          9,
          9,
          10,
          10,
          10,
          10,
          10,
          10,
          10,
          11,
          11,
          11,
          11,
          11,
          11,
          11,
          12,
          12,
          12,
          12,
          12,
          12,
          12,
          13,
          13,
          13,
          13,
          13,
          13,
          13,
          14,
          14,
          14,
          14,
          14,
          14,
          14,
          15,
          15,
          15,
          15,
          15,
          15,
          15,
          16,
          16,
          16,
          16,
          16,
          16,
          16,
          17,
          17,
          17,
          17,
          17,
          17,
          17,
          18,
          18,
          18,
          18,
          18,
          18,
          18,
          19,
          19,
          19,
          19,
          19,
          19,
          19,
          20,
          20,
          20,
          20,
          20,
          20,
          20,
          21,
          21,
          21,
          21,
          21,
          21,
          21,
          22,
          22,
          22,
          22,
          22,
          22,
          22,
          23,
          23,
          23,
          23,
          23,
          23,
          23,
          24,
          24,
          24,
          24,
          24,
          24,
          24,
          25,
          25,
          25,
          25,
          25,
          25,
          25,
          26,
          26,
          26,
          26,
          26,
          26,
          26,
          27,
          27,
          27,
          27,
          27,
          27,
          27,
          28,
          28,
          28,
          28,
          28,
          28,
          28,
          29,
          29,
          29,
          29,
          29,
          29,
          29,
          30,
          30,
          30,
          30,
          30,
          30,
          30,
          31,
          31,
          31,
          31,
          31,
          31,
          31,
          32,
          32,
          32,
          32,
          32,
          32,
          32,
          33,
          33,
          33,
          33,
          33,
          33,
          33,
          34,
          34,
          34,
          34,
          34,
          34,
          34,
          35,
          35,
          35,
          35,
          35,
          35,
          35,
          36,
          36,
          36,
          36,
          36,
          36,
          36,
          37,
          37,
          37,
          37,
          37,
          37,
          37,
          38,
          38,
          38,
          38,
          38,
          38,
          38,
          39,
          39,
          39,
          39,
          39,
          39,
          39,
          40,
          40,
          40,
          40,
          40,
          40,
          40,
          41,
          41,
          41,
          41,
          41,
          41,
          41,
          42,
          42,
          42,
          42,
          42,
          42,
          42,
          43,
          43,
          43,
          43,
          43,
          43,
          43,
          44,
          44,
          44,
          44,
          44,
          44,
          44
         ],
         "y": [
          0,
          0,
          0,
          0,
          0,
          0,
          0,
          13.8,
          13.8,
          13.8,
          13.8,
          13.8,
          13.8,
          13.8,
          13.747147833501735,
          13.747147833501735,
          13.747147833501735,
          13.747147833501735,
          13.747147833501735,
          13.747147833501735,
          13.747147833501735,
          10.161781407628256,
          10.161781407628256,
          10.161781407628256,
          10.161781407628256,
          10.161781407628256,
          10.161781407628256,
          10.161781407628256,
          7.090599853170247,
          7.090599853170247,
          7.090599853170247,
          7.090599853170247,
          7.090599853170247,
          7.090599853170247,
          7.090599853170247,
          11.807589083416987,
          11.807589083416987,
          11.807589083416987,
          11.807589083416987,
          11.807589083416987,
          11.807589083416987,
          11.807589083416987,
          10.766704937317948,
          10.766704937317948,
          10.766704937317948,
          10.766704937317948,
          10.766704937317948,
          10.766704937317948,
          10.766704937317948,
          11.952316991185617,
          11.952316991185617,
          11.952316991185617,
          11.952316991185617,
          11.952316991185617,
          11.952316991185617,
          11.952316991185617,
          11.587848904368405,
          11.587848904368405,
          11.587848904368405,
          11.587848904368405,
          11.587848904368405,
          11.587848904368405,
          11.587848904368405,
          16.11760165999442,
          16.11760165999442,
          16.11760165999442,
          16.11760165999442,
          16.11760165999442,
          16.11760165999442,
          16.11760165999442,
          12.257593411122016,
          12.257593411122016,
          12.257593411122016,
          12.257593411122016,
          12.257593411122016,
          12.257593411122016,
          12.257593411122016,
          11.13082724953899,
          11.13082724953899,
          11.13082724953899,
          11.13082724953899,
          11.13082724953899,
          11.13082724953899,
          11.13082724953899,
          7.66669781744859,
          7.66669781744859,
          7.66669781744859,
          7.66669781744859,
          7.66669781744859,
          7.66669781744859,
          7.66669781744859,
          9.409573657996763,
          9.409573657996763,
          9.409573657996763,
          9.409573657996763,
          9.409573657996763,
          9.409573657996763,
          9.409573657996763,
          10.192529682183926,
          10.192529682183926,
          10.192529682183926,
          10.192529682183926,
          10.192529682183926,
          10.192529682183926,
          10.192529682183926,
          8.588259578547955,
          8.588259578547955,
          8.588259578547955,
          8.588259578547955,
          8.588259578547955,
          8.588259578547955,
          8.588259578547955,
          11.4116952681951,
          11.4116952681951,
          11.4116952681951,
          11.4116952681951,
          11.4116952681951,
          11.4116952681951,
          11.4116952681951,
          9.983757577554277,
          9.983757577554277,
          9.983757577554277,
          9.983757577554277,
          9.983757577554277,
          9.983757577554277,
          9.983757577554277,
          8.532065774427016,
          8.532065774427016,
          8.532065774427016,
          8.532065774427016,
          8.532065774427016,
          8.532065774427016,
          8.532065774427016,
          8.329980336228605,
          8.329980336228605,
          8.329980336228605,
          8.329980336228605,
          8.329980336228605,
          8.329980336228605,
          8.329980336228605,
          7.489339999491149,
          7.489339999491149,
          7.489339999491149,
          7.489339999491149,
          7.489339999491149,
          7.489339999491149,
          7.489339999491149,
          50.36510221245444,
          50.36510221245444,
          50.36510221245444,
          50.36510221245444,
          50.36510221245444,
          50.36510221245444,
          50.36510221245444,
          53.364474300447874,
          53.364474300447874,
          53.364474300447874,
          53.364474300447874,
          53.364474300447874,
          53.364474300447874,
          53.364474300447874,
          55.096416786225745,
          55.096416786225745,
          55.096416786225745,
          55.096416786225745,
          55.096416786225745,
          55.096416786225745,
          55.096416786225745,
          57.29140982986172,
          57.29140982986172,
          57.29140982986172,
          57.29140982986172,
          57.29140982986172,
          57.29140982986172,
          57.29140982986172,
          56.934942602852715,
          56.934942602852715,
          56.934942602852715,
          56.934942602852715,
          56.934942602852715,
          56.934942602852715,
          56.934942602852715,
          56.10453400935227,
          56.10453400935227,
          56.10453400935227,
          56.10453400935227,
          56.10453400935227,
          56.10453400935227,
          56.10453400935227,
          55.58292100160218,
          55.58292100160218,
          55.58292100160218,
          55.58292100160218,
          55.58292100160218,
          55.58292100160218,
          55.58292100160218,
          54.75152662683729,
          54.75152662683729,
          54.75152662683729,
          54.75152662683729,
          54.75152662683729,
          54.75152662683729,
          54.75152662683729,
          54.49896326074227,
          54.49896326074227,
          54.49896326074227,
          54.49896326074227,
          54.49896326074227,
          54.49896326074227,
          54.49896326074227,
          51.43052920006714,
          51.43052920006714,
          51.43052920006714,
          51.43052920006714,
          51.43052920006714,
          51.43052920006714,
          51.43052920006714,
          51.968836162608255,
          51.968836162608255,
          51.968836162608255,
          51.968836162608255,
          51.968836162608255,
          51.968836162608255,
          51.968836162608255,
          49.97967752200073,
          49.97967752200073,
          49.97967752200073,
          49.97967752200073,
          49.97967752200073,
          49.97967752200073,
          49.97967752200073,
          50.2778104203657,
          50.2778104203657,
          50.2778104203657,
          50.2778104203657,
          50.2778104203657,
          50.2778104203657,
          50.2778104203657,
          50.013518267318055,
          50.013518267318055,
          50.013518267318055,
          50.013518267318055,
          50.013518267318055,
          50.013518267318055,
          50.013518267318055,
          49.64772957901083,
          49.64772957901083,
          49.64772957901083,
          49.64772957901083,
          49.64772957901083,
          49.64772957901083,
          49.64772957901083,
          47.91259833947991,
          47.91259833947991,
          47.91259833947991,
          47.91259833947991,
          47.91259833947991,
          47.91259833947991,
          47.91259833947991,
          49.13724821901296,
          49.13724821901296,
          49.13724821901296,
          49.13724821901296,
          49.13724821901296,
          49.13724821901296,
          49.13724821901296,
          48.93424001767478,
          48.93424001767478,
          48.93424001767478,
          48.93424001767478,
          48.93424001767478,
          48.93424001767478,
          48.93424001767478,
          54.152762244330724,
          54.152762244330724,
          54.152762244330724,
          54.152762244330724,
          54.152762244330724,
          54.152762244330724,
          54.152762244330724,
          52.24757806255782,
          52.24757806255782,
          52.24757806255782,
          52.24757806255782,
          52.24757806255782,
          52.24757806255782,
          52.24757806255782,
          52.81277629866453,
          52.81277629866453,
          52.81277629866453,
          52.81277629866453,
          52.81277629866453,
          52.81277629866453,
          52.81277629866453,
          51.7115289749848,
          51.7115289749848,
          51.7115289749848,
          51.7115289749848,
          51.7115289749848,
          51.7115289749848,
          51.7115289749848,
          50.34468190829187,
          50.34468190829187,
          50.34468190829187,
          50.34468190829187,
          50.34468190829187,
          50.34468190829187,
          50.34468190829187,
          50.69203732805791
         ]
        }
       ],
       "layout": {
        "font": {
         "color": "black",
         "family": "Arial",
         "size": 18
        },
        "hovermode": "x unified",
        "legend": {
         "orientation": "h",
         "x": 0.5,
         "xanchor": "center",
         "y": -0.5,
         "yanchor": "bottom"
        },
        "paper_bgcolor": "rgba(255, 255, 255, 1)",
        "plot_bgcolor": "rgba(255, 255, 255, 1)",
        "template": {
         "data": {
          "bar": [
           {
            "error_x": {
             "color": "#2a3f5f"
            },
            "error_y": {
             "color": "#2a3f5f"
            },
            "marker": {
             "line": {
              "color": "white",
              "width": 0.5
             }
            },
            "type": "bar"
           }
          ],
          "barpolar": [
           {
            "marker": {
             "line": {
              "color": "white",
              "width": 0.5
             }
            },
            "type": "barpolar"
           }
          ],
          "carpet": [
           {
            "aaxis": {
             "endlinecolor": "#2a3f5f",
             "gridcolor": "#C8D4E3",
             "linecolor": "#C8D4E3",
             "minorgridcolor": "#C8D4E3",
             "startlinecolor": "#2a3f5f"
            },
            "baxis": {
             "endlinecolor": "#2a3f5f",
             "gridcolor": "#C8D4E3",
             "linecolor": "#C8D4E3",
             "minorgridcolor": "#C8D4E3",
             "startlinecolor": "#2a3f5f"
            },
            "type": "carpet"
           }
          ],
          "choropleth": [
           {
            "colorbar": {
             "outlinewidth": 0,
             "ticks": ""
            },
            "type": "choropleth"
           }
          ],
          "contour": [
           {
            "colorbar": {
             "outlinewidth": 0,
             "ticks": ""
            },
            "colorscale": [
             [
              0,
              "#0d0887"
             ],
             [
              0.1111111111111111,
              "#46039f"
             ],
             [
              0.2222222222222222,
              "#7201a8"
             ],
             [
              0.3333333333333333,
              "#9c179e"
             ],
             [
              0.4444444444444444,
              "#bd3786"
             ],
             [
              0.5555555555555556,
              "#d8576b"
             ],
             [
              0.6666666666666666,
              "#ed7953"
             ],
             [
              0.7777777777777778,
              "#fb9f3a"
             ],
             [
              0.8888888888888888,
              "#fdca26"
             ],
             [
              1,
              "#f0f921"
             ]
            ],
            "type": "contour"
           }
          ],
          "contourcarpet": [
           {
            "colorbar": {
             "outlinewidth": 0,
             "ticks": ""
            },
            "type": "contourcarpet"
           }
          ],
          "heatmap": [
           {
            "colorbar": {
             "outlinewidth": 0,
             "ticks": ""
            },
            "colorscale": [
             [
              0,
              "#0d0887"
             ],
             [
              0.1111111111111111,
              "#46039f"
             ],
             [
              0.2222222222222222,
              "#7201a8"
             ],
             [
              0.3333333333333333,
              "#9c179e"
             ],
             [
              0.4444444444444444,
              "#bd3786"
             ],
             [
              0.5555555555555556,
              "#d8576b"
             ],
             [
              0.6666666666666666,
              "#ed7953"
             ],
             [
              0.7777777777777778,
              "#fb9f3a"
             ],
             [
              0.8888888888888888,
              "#fdca26"
             ],
             [
              1,
              "#f0f921"
             ]
            ],
            "type": "heatmap"
           }
          ],
          "heatmapgl": [
           {
            "colorbar": {
             "outlinewidth": 0,
             "ticks": ""
            },
            "colorscale": [
             [
              0,
              "#0d0887"
             ],
             [
              0.1111111111111111,
              "#46039f"
             ],
             [
              0.2222222222222222,
              "#7201a8"
             ],
             [
              0.3333333333333333,
              "#9c179e"
             ],
             [
              0.4444444444444444,
              "#bd3786"
             ],
             [
              0.5555555555555556,
              "#d8576b"
             ],
             [
              0.6666666666666666,
              "#ed7953"
             ],
             [
              0.7777777777777778,
              "#fb9f3a"
             ],
             [
              0.8888888888888888,
              "#fdca26"
             ],
             [
              1,
              "#f0f921"
             ]
            ],
            "type": "heatmapgl"
           }
          ],
          "histogram": [
           {
            "marker": {
             "colorbar": {
              "outlinewidth": 0,
              "ticks": ""
             }
            },
            "type": "histogram"
           }
          ],
          "histogram2d": [
           {
            "colorbar": {
             "outlinewidth": 0,
             "ticks": ""
            },
            "colorscale": [
             [
              0,
              "#0d0887"
             ],
             [
              0.1111111111111111,
              "#46039f"
             ],
             [
              0.2222222222222222,
              "#7201a8"
             ],
             [
              0.3333333333333333,
              "#9c179e"
             ],
             [
              0.4444444444444444,
              "#bd3786"
             ],
             [
              0.5555555555555556,
              "#d8576b"
             ],
             [
              0.6666666666666666,
              "#ed7953"
             ],
             [
              0.7777777777777778,
              "#fb9f3a"
             ],
             [
              0.8888888888888888,
              "#fdca26"
             ],
             [
              1,
              "#f0f921"
             ]
            ],
            "type": "histogram2d"
           }
          ],
          "histogram2dcontour": [
           {
            "colorbar": {
             "outlinewidth": 0,
             "ticks": ""
            },
            "colorscale": [
             [
              0,
              "#0d0887"
             ],
             [
              0.1111111111111111,
              "#46039f"
             ],
             [
              0.2222222222222222,
              "#7201a8"
             ],
             [
              0.3333333333333333,
              "#9c179e"
             ],
             [
              0.4444444444444444,
              "#bd3786"
             ],
             [
              0.5555555555555556,
              "#d8576b"
             ],
             [
              0.6666666666666666,
              "#ed7953"
             ],
             [
              0.7777777777777778,
              "#fb9f3a"
             ],
             [
              0.8888888888888888,
              "#fdca26"
             ],
             [
              1,
              "#f0f921"
             ]
            ],
            "type": "histogram2dcontour"
           }
          ],
          "mesh3d": [
           {
            "colorbar": {
             "outlinewidth": 0,
             "ticks": ""
            },
            "type": "mesh3d"
           }
          ],
          "parcoords": [
           {
            "line": {
             "colorbar": {
              "outlinewidth": 0,
              "ticks": ""
             }
            },
            "type": "parcoords"
           }
          ],
          "pie": [
           {
            "automargin": true,
            "type": "pie"
           }
          ],
          "scatter": [
           {
            "marker": {
             "colorbar": {
              "outlinewidth": 0,
              "ticks": ""
             }
            },
            "type": "scatter"
           }
          ],
          "scatter3d": [
           {
            "line": {
             "colorbar": {
              "outlinewidth": 0,
              "ticks": ""
             }
            },
            "marker": {
             "colorbar": {
              "outlinewidth": 0,
              "ticks": ""
             }
            },
            "type": "scatter3d"
           }
          ],
          "scattercarpet": [
           {
            "marker": {
             "colorbar": {
              "outlinewidth": 0,
              "ticks": ""
             }
            },
            "type": "scattercarpet"
           }
          ],
          "scattergeo": [
           {
            "marker": {
             "colorbar": {
              "outlinewidth": 0,
              "ticks": ""
             }
            },
            "type": "scattergeo"
           }
          ],
          "scattergl": [
           {
            "marker": {
             "colorbar": {
              "outlinewidth": 0,
              "ticks": ""
             }
            },
            "type": "scattergl"
           }
          ],
          "scattermapbox": [
           {
            "marker": {
             "colorbar": {
              "outlinewidth": 0,
              "ticks": ""
             }
            },
            "type": "scattermapbox"
           }
          ],
          "scatterpolar": [
           {
            "marker": {
             "colorbar": {
              "outlinewidth": 0,
              "ticks": ""
             }
            },
            "type": "scatterpolar"
           }
          ],
          "scatterpolargl": [
           {
            "marker": {
             "colorbar": {
              "outlinewidth": 0,
              "ticks": ""
             }
            },
            "type": "scatterpolargl"
           }
          ],
          "scatterternary": [
           {
            "marker": {
             "colorbar": {
              "outlinewidth": 0,
              "ticks": ""
             }
            },
            "type": "scatterternary"
           }
          ],
          "surface": [
           {
            "colorbar": {
             "outlinewidth": 0,
             "ticks": ""
            },
            "colorscale": [
             [
              0,
              "#0d0887"
             ],
             [
              0.1111111111111111,
              "#46039f"
             ],
             [
              0.2222222222222222,
              "#7201a8"
             ],
             [
              0.3333333333333333,
              "#9c179e"
             ],
             [
              0.4444444444444444,
              "#bd3786"
             ],
             [
              0.5555555555555556,
              "#d8576b"
             ],
             [
              0.6666666666666666,
              "#ed7953"
             ],
             [
              0.7777777777777778,
              "#fb9f3a"
             ],
             [
              0.8888888888888888,
              "#fdca26"
             ],
             [
              1,
              "#f0f921"
             ]
            ],
            "type": "surface"
           }
          ],
          "table": [
           {
            "cells": {
             "fill": {
              "color": "#EBF0F8"
             },
             "line": {
              "color": "white"
             }
            },
            "header": {
             "fill": {
              "color": "#C8D4E3"
             },
             "line": {
              "color": "white"
             }
            },
            "type": "table"
           }
          ]
         },
         "layout": {
          "annotationdefaults": {
           "arrowcolor": "#2a3f5f",
           "arrowhead": 0,
           "arrowwidth": 1
          },
          "autotypenumbers": "strict",
          "coloraxis": {
           "colorbar": {
            "outlinewidth": 0,
            "ticks": ""
           }
          },
          "colorscale": {
           "diverging": [
            [
             0,
             "#8e0152"
            ],
            [
             0.1,
             "#c51b7d"
            ],
            [
             0.2,
             "#de77ae"
            ],
            [
             0.3,
             "#f1b6da"
            ],
            [
             0.4,
             "#fde0ef"
            ],
            [
             0.5,
             "#f7f7f7"
            ],
            [
             0.6,
             "#e6f5d0"
            ],
            [
             0.7,
             "#b8e186"
            ],
            [
             0.8,
             "#7fbc41"
            ],
            [
             0.9,
             "#4d9221"
            ],
            [
             1,
             "#276419"
            ]
           ],
           "sequential": [
            [
             0,
             "#0d0887"
            ],
            [
             0.1111111111111111,
             "#46039f"
            ],
            [
             0.2222222222222222,
             "#7201a8"
            ],
            [
             0.3333333333333333,
             "#9c179e"
            ],
            [
             0.4444444444444444,
             "#bd3786"
            ],
            [
             0.5555555555555556,
             "#d8576b"
            ],
            [
             0.6666666666666666,
             "#ed7953"
            ],
            [
             0.7777777777777778,
             "#fb9f3a"
            ],
            [
             0.8888888888888888,
             "#fdca26"
            ],
            [
             1,
             "#f0f921"
            ]
           ],
           "sequentialminus": [
            [
             0,
             "#0d0887"
            ],
            [
             0.1111111111111111,
             "#46039f"
            ],
            [
             0.2222222222222222,
             "#7201a8"
            ],
            [
             0.3333333333333333,
             "#9c179e"
            ],
            [
             0.4444444444444444,
             "#bd3786"
            ],
            [
             0.5555555555555556,
             "#d8576b"
            ],
            [
             0.6666666666666666,
             "#ed7953"
            ],
            [
             0.7777777777777778,
             "#fb9f3a"
            ],
            [
             0.8888888888888888,
             "#fdca26"
            ],
            [
             1,
             "#f0f921"
            ]
           ]
          },
          "colorway": [
           "#636efa",
           "#EF553B",
           "#00cc96",
           "#ab63fa",
           "#FFA15A",
           "#19d3f3",
           "#FF6692",
           "#B6E880",
           "#FF97FF",
           "#FECB52"
          ],
          "font": {
           "color": "#2a3f5f"
          },
          "geo": {
           "bgcolor": "white",
           "lakecolor": "white",
           "landcolor": "white",
           "showlakes": true,
           "showland": true,
           "subunitcolor": "#C8D4E3"
          },
          "hoverlabel": {
           "align": "left"
          },
          "hovermode": "closest",
          "mapbox": {
           "style": "light"
          },
          "paper_bgcolor": "white",
          "plot_bgcolor": "white",
          "polar": {
           "angularaxis": {
            "gridcolor": "#EBF0F8",
            "linecolor": "#EBF0F8",
            "ticks": ""
           },
           "bgcolor": "white",
           "radialaxis": {
            "gridcolor": "#EBF0F8",
            "linecolor": "#EBF0F8",
            "ticks": ""
           }
          },
          "scene": {
           "xaxis": {
            "backgroundcolor": "white",
            "gridcolor": "#DFE8F3",
            "gridwidth": 2,
            "linecolor": "#EBF0F8",
            "showbackground": true,
            "ticks": "",
            "zerolinecolor": "#EBF0F8"
           },
           "yaxis": {
            "backgroundcolor": "white",
            "gridcolor": "#DFE8F3",
            "gridwidth": 2,
            "linecolor": "#EBF0F8",
            "showbackground": true,
            "ticks": "",
            "zerolinecolor": "#EBF0F8"
           },
           "zaxis": {
            "backgroundcolor": "white",
            "gridcolor": "#DFE8F3",
            "gridwidth": 2,
            "linecolor": "#EBF0F8",
            "showbackground": true,
            "ticks": "",
            "zerolinecolor": "#EBF0F8"
           }
          },
          "shapedefaults": {
           "line": {
            "color": "#2a3f5f"
           }
          },
          "ternary": {
           "aaxis": {
            "gridcolor": "#DFE8F3",
            "linecolor": "#A2B1C6",
            "ticks": ""
           },
           "baxis": {
            "gridcolor": "#DFE8F3",
            "linecolor": "#A2B1C6",
            "ticks": ""
           },
           "bgcolor": "white",
           "caxis": {
            "gridcolor": "#DFE8F3",
            "linecolor": "#A2B1C6",
            "ticks": ""
           }
          },
          "title": {
           "x": 0.05
          },
          "xaxis": {
           "automargin": true,
           "gridcolor": "#EBF0F8",
           "linecolor": "#EBF0F8",
           "ticks": "",
           "title": {
            "standoff": 15
           },
           "zerolinecolor": "#EBF0F8",
           "zerolinewidth": 2
          },
          "yaxis": {
           "automargin": true,
           "gridcolor": "#EBF0F8",
           "linecolor": "#EBF0F8",
           "ticks": "",
           "title": {
            "standoff": 15
           },
           "zerolinecolor": "#EBF0F8",
           "zerolinewidth": 2
          }
         }
        },
        "title": {
         "text": "Average Overall Yield %",
         "x": 0.5,
         "xanchor": "center",
         "y": 0.9,
         "yanchor": "top"
        },
        "xaxis": {
         "title": {
          "text": "Timestep"
         }
        },
        "yaxis": {
         "title": {
          "text": "Avg overall yield %"
         }
        }
       }
      }
     },
     "metadata": {},
     "output_type": "display_data"
    }
   ],
   "source": [
    "fig = visualizations.plot_avg_overall_yield(\n",
    "    df\n",
    ")\n",
    "pio.show(fig)\n"
   ]
  },
  {
   "cell_type": "code",
   "execution_count": 44,
   "metadata": {},
   "outputs": [
    {
     "data": {
      "application/vnd.plotly.v1+json": {
       "config": {
        "plotlyServerURL": "https://plot.ly"
       },
       "data": [
        {
         "line": {
          "dash": "dot",
          "width": 2
         },
         "name": "Yield % Curve 1 (Eth Alloc: 100.00%)",
         "type": "scatter",
         "x": [
          0,
          1,
          1,
          1,
          1,
          1,
          1,
          1,
          2,
          2,
          2,
          2,
          2,
          2,
          2,
          3,
          3,
          3,
          3,
          3,
          3,
          3,
          4,
          4,
          4,
          4,
          4,
          4,
          4,
          5,
          5,
          5,
          5,
          5,
          5,
          5,
          6,
          6,
          6,
          6,
          6,
          6,
          6,
          7,
          7,
          7,
          7,
          7,
          7,
          7,
          8,
          8,
          8,
          8,
          8,
          8,
          8,
          9,
          9,
          9,
          9,
          9,
          9,
          9,
          10,
          10,
          10,
          10,
          10,
          10,
          10,
          11,
          11,
          11,
          11,
          11,
          11,
          11,
          12,
          12,
          12,
          12,
          12,
          12,
          12,
          13,
          13,
          13,
          13,
          13,
          13,
          13,
          14,
          14,
          14,
          14,
          14,
          14,
          14,
          15,
          15,
          15,
          15,
          15,
          15,
          15,
          16,
          16,
          16,
          16,
          16,
          16,
          16,
          17,
          17,
          17,
          17,
          17,
          17,
          17,
          18,
          18,
          18,
          18,
          18,
          18,
          18,
          19,
          19,
          19,
          19,
          19,
          19,
          19,
          20,
          20,
          20,
          20,
          20,
          20,
          20,
          21,
          21,
          21,
          21,
          21,
          21,
          21,
          22,
          22,
          22,
          22,
          22,
          22,
          22,
          23,
          23,
          23,
          23,
          23,
          23,
          23,
          24,
          24,
          24,
          24,
          24,
          24,
          24,
          25,
          25,
          25,
          25,
          25,
          25,
          25,
          26,
          26,
          26,
          26,
          26,
          26,
          26,
          27,
          27,
          27,
          27,
          27,
          27,
          27,
          28,
          28,
          28,
          28,
          28,
          28,
          28,
          29,
          29,
          29,
          29,
          29,
          29,
          29,
          30,
          30,
          30,
          30,
          30,
          30,
          30,
          31,
          31,
          31,
          31,
          31,
          31,
          31,
          32,
          32,
          32,
          32,
          32,
          32,
          32,
          33,
          33,
          33,
          33,
          33,
          33,
          33,
          34,
          34,
          34,
          34,
          34,
          34,
          34,
          35,
          35,
          35,
          35,
          35,
          35,
          35,
          36,
          36,
          36,
          36,
          36,
          36,
          36,
          37,
          37,
          37,
          37,
          37,
          37,
          37,
          38,
          38,
          38,
          38,
          38,
          38,
          38,
          39,
          39,
          39,
          39,
          39,
          39,
          39,
          40,
          40,
          40,
          40,
          40,
          40,
          40,
          41,
          41,
          41,
          41,
          41,
          41,
          41,
          42,
          42,
          42,
          42,
          42,
          42,
          42,
          43,
          43,
          43,
          43,
          43,
          43,
          43,
          44,
          44,
          44,
          44,
          44,
          44,
          44
         ],
         "y": [
          0,
          0,
          0,
          0,
          0,
          0,
          0,
          15.525,
          15.525,
          15.525,
          15.525,
          15.525,
          15.525,
          15.525,
          15.450747734939274,
          15.450747734939274,
          15.450747734939274,
          15.450747734939274,
          15.450747734939274,
          15.450747734939274,
          15.450747734939274,
          10.7251143986118,
          10.7251143986118,
          10.7251143986118,
          10.7251143986118,
          10.7251143986118,
          10.7251143986118,
          10.7251143986118,
          7.112429612264955,
          7.112429612264955,
          7.112429612264955,
          7.112429612264955,
          7.112429612264955,
          7.112429612264955,
          7.112429612264955,
          12.820779371404114,
          12.820779371404114,
          12.820779371404114,
          12.820779371404114,
          12.820779371404114,
          12.820779371404114,
          12.820779371404114,
          11.481616760441831,
          11.481616760441831,
          11.481616760441831,
          11.481616760441831,
          11.481616760441831,
          11.481616760441831,
          11.481616760441831,
          13.010850677983615,
          13.010850677983615,
          13.010850677983615,
          13.010850677983615,
          13.010850677983615,
          13.010850677983615,
          13.010850677983615,
          12.534026390382571,
          12.534026390382571,
          12.534026390382571,
          12.534026390382571,
          12.534026390382571,
          12.534026390382571,
          12.534026390382571,
          18.926960472752796,
          18.926960472752796,
          18.926960472752796,
          18.926960472752796,
          18.926960472752796,
          18.926960472752796,
          18.926960472752796,
          13.414950062760969,
          13.414950062760969,
          13.414950062760969,
          13.414950062760969,
          13.414950062760969,
          13.414950062760969,
          13.414950062760969,
          11.94460434361168,
          11.94460434361168,
          11.94460434361168,
          11.94460434361168,
          11.94460434361168,
          11.94460434361168,
          11.94460434361168,
          7.762535482705555,
          7.762535482705555,
          7.762535482705555,
          7.762535482705555,
          7.762535482705555,
          7.762535482705555,
          7.762535482705555,
          9.805845670711735,
          9.805845670711735,
          9.805845670711735,
          9.805845670711735,
          9.805845670711735,
          9.805845670711735,
          9.805845670711735,
          10.76319198637361,
          10.76319198637361,
          10.76319198637361,
          10.76319198637361,
          10.76319198637361,
          10.76319198637361,
          10.76319198637361,
          8.828266097072145,
          8.828266097072145,
          8.828266097072145,
          8.828266097072145,
          8.828266097072145,
          8.828266097072145,
          8.828266097072145,
          12.305732552039043,
          12.305732552039043,
          12.305732552039043,
          12.305732552039043,
          12.305732552039043,
          12.305732552039043,
          12.305732552039043,
          10.505435793897961,
          10.505435793897961,
          10.505435793897961,
          10.505435793897961,
          10.505435793897961,
          10.505435793897961,
          10.505435793897961,
          8.762351341710598,
          8.762351341710598,
          8.762351341710598,
          8.762351341710598,
          8.762351341710598,
          8.762351341710598,
          8.762351341710598,
          8.52631632141522,
          8.52631632141522,
          8.52631632141522,
          8.52631632141522,
          8.52631632141522,
          8.52631632141522,
          8.52631632141522,
          7.561096141133144,
          7.561096141133144,
          7.561096141133144,
          7.561096141133144,
          7.561096141133144,
          7.561096141133144,
          7.561096141133144,
          167.83954937943204,
          167.83954937943204,
          167.83954937943204,
          167.83954937943204,
          167.83954937943204,
          167.83954937943204,
          167.83954937943204,
          211.9489883319202,
          211.9489883319202,
          211.9489883319202,
          211.9489883319202,
          211.9489883319202,
          211.9489883319202,
          211.9489883319202,
          246.08674108088593,
          246.08674108088593,
          246.08674108088593,
          246.08674108088593,
          246.08674108088593,
          246.08674108088593,
          246.08674108088593,
          303.86207892972925,
          303.86207892972925,
          303.86207892972925,
          303.86207892972925,
          303.86207892972925,
          303.86207892972925,
          303.86207892972925,
          293.04957442416645,
          293.04957442416645,
          293.04957442416645,
          293.04957442416645,
          293.04957442416645,
          293.04957442416645,
          293.04957442416645,
          270.1795781949695,
          270.1795781949695,
          270.1795781949695,
          270.1795781949695,
          270.1795781949695,
          270.1795781949695,
          270.1795781949695,
          257.2616136948789,
          257.2616136948789,
          257.2616136948789,
          257.2616136948789,
          257.2616136948789,
          257.2616136948789,
          257.2616136948789,
          238.6269542343177,
          238.6269542343177,
          238.6269542343177,
          238.6269542343177,
          238.6269542343177,
          238.6269542343177,
          238.6269542343177,
          233.38921756744227,
          233.38921756744227,
          233.38921756744227,
          233.38921756744227,
          233.38921756744227,
          233.38921756744227,
          233.38921756744227,
          181.78327052038316,
          181.78327052038316,
          181.78327052038316,
          181.78327052038316,
          181.78327052038316,
          181.78327052038316,
          181.78327052038316,
          189.4917315405388,
          189.4917315405388,
          189.4917315405388,
          189.4917315405388,
          189.4917315405388,
          189.4917315405388,
          189.4917315405388,
          163.18009212022167,
          163.18009212022167,
          163.18009212022167,
          163.18009212022167,
          163.18009212022167,
          163.18009212022167,
          163.18009212022167,
          166.76746134976895,
          166.76746134976895,
          166.76746134976895,
          166.76746134976895,
          166.76746134976895,
          166.76746134976895,
          166.76746134976895,
          163.58162234208385,
          163.58162234208385,
          163.58162234208385,
          163.58162234208385,
          163.58162234208385,
          163.58162234208385,
          163.58162234208385,
          159.31588076160122,
          159.31588076160122,
          159.31588076160122,
          159.31588076160122,
          159.31588076160122,
          159.31588076160122,
          159.31588076160122,
          141.09715387326284,
          141.09715387326284,
          141.09715387326284,
          141.09715387326284,
          141.09715387326284,
          141.09715387326284,
          141.09715387326284,
          153.62539632205338,
          153.62539632205338,
          153.62539632205338,
          153.62539632205338,
          153.62539632205338,
          153.62539632205338,
          153.62539632205338,
          151.44287122811824,
          151.44287122811824,
          151.44287122811824,
          151.44287122811824,
          151.44287122811824,
          151.44287122811824,
          151.44287122811824,
          226.49913678986184,
          226.49913678986184,
          226.49913678986184,
          226.49913678986184,
          226.49913678986184,
          226.49913678986184,
          226.49913678986184,
          193.6779416015733,
          193.6779416015733,
          193.6779416015733,
          193.6779416015733,
          193.6779416015733,
          193.6779416015733,
          193.6779416015733,
          202.60876532375906,
          202.60876532375906,
          202.60876532375906,
          202.60876532375906,
          202.60876532375906,
          202.60876532375906,
          202.60876532375906,
          185.74724998526762,
          185.74724998526762,
          185.74724998526762,
          185.74724998526762,
          185.74724998526762,
          185.74724998526762,
          185.74724998526762,
          167.5878551700783,
          167.5878551700783,
          167.5878551700783,
          167.5878551700783,
          167.5878551700783,
          167.5878551700783,
          167.5878551700783,
          171.94570332486165
         ]
        },
        {
         "line": {
          "dash": "dot",
          "width": 2
         },
         "name": "Yield % Curve 2 (Eth Alloc: 0.00%)",
         "type": "scatter",
         "x": [
          0,
          1,
          1,
          1,
          1,
          1,
          1,
          1,
          2,
          2,
          2,
          2,
          2,
          2,
          2,
          3,
          3,
          3,
          3,
          3,
          3,
          3,
          4,
          4,
          4,
          4,
          4,
          4,
          4,
          5,
          5,
          5,
          5,
          5,
          5,
          5,
          6,
          6,
          6,
          6,
          6,
          6,
          6,
          7,
          7,
          7,
          7,
          7,
          7,
          7,
          8,
          8,
          8,
          8,
          8,
          8,
          8,
          9,
          9,
          9,
          9,
          9,
          9,
          9,
          10,
          10,
          10,
          10,
          10,
          10,
          10,
          11,
          11,
          11,
          11,
          11,
          11,
          11,
          12,
          12,
          12,
          12,
          12,
          12,
          12,
          13,
          13,
          13,
          13,
          13,
          13,
          13,
          14,
          14,
          14,
          14,
          14,
          14,
          14,
          15,
          15,
          15,
          15,
          15,
          15,
          15,
          16,
          16,
          16,
          16,
          16,
          16,
          16,
          17,
          17,
          17,
          17,
          17,
          17,
          17,
          18,
          18,
          18,
          18,
          18,
          18,
          18,
          19,
          19,
          19,
          19,
          19,
          19,
          19,
          20,
          20,
          20,
          20,
          20,
          20,
          20,
          21,
          21,
          21,
          21,
          21,
          21,
          21,
          22,
          22,
          22,
          22,
          22,
          22,
          22,
          23,
          23,
          23,
          23,
          23,
          23,
          23,
          24,
          24,
          24,
          24,
          24,
          24,
          24,
          25,
          25,
          25,
          25,
          25,
          25,
          25,
          26,
          26,
          26,
          26,
          26,
          26,
          26,
          27,
          27,
          27,
          27,
          27,
          27,
          27,
          28,
          28,
          28,
          28,
          28,
          28,
          28,
          29,
          29,
          29,
          29,
          29,
          29,
          29,
          30,
          30,
          30,
          30,
          30,
          30,
          30,
          31,
          31,
          31,
          31,
          31,
          31,
          31,
          32,
          32,
          32,
          32,
          32,
          32,
          32,
          33,
          33,
          33,
          33,
          33,
          33,
          33,
          34,
          34,
          34,
          34,
          34,
          34,
          34,
          35,
          35,
          35,
          35,
          35,
          35,
          35,
          36,
          36,
          36,
          36,
          36,
          36,
          36,
          37,
          37,
          37,
          37,
          37,
          37,
          37,
          38,
          38,
          38,
          38,
          38,
          38,
          38,
          39,
          39,
          39,
          39,
          39,
          39,
          39,
          40,
          40,
          40,
          40,
          40,
          40,
          40,
          41,
          41,
          41,
          41,
          41,
          41,
          41,
          42,
          42,
          42,
          42,
          42,
          42,
          42,
          43,
          43,
          43,
          43,
          43,
          43,
          43,
          44,
          44,
          44,
          44,
          44,
          44,
          44
         ],
         "y": [
          0,
          0,
          0,
          0,
          0,
          0,
          0,
          6.9,
          6.9,
          6.9,
          6.9,
          6.9,
          6.9,
          6.9,
          6.9,
          6.9,
          6.9,
          6.9,
          6.9,
          6.9,
          6.9,
          6.900000000000002,
          6.900000000000002,
          6.900000000000002,
          6.900000000000002,
          6.900000000000002,
          6.900000000000002,
          6.900000000000002,
          6.9,
          6.9,
          6.9,
          6.9,
          6.9,
          6.9,
          6.9,
          6.9,
          6.9,
          6.9,
          6.9,
          6.9,
          6.9,
          6.9,
          6.9,
          6.9,
          6.9,
          6.9,
          6.9,
          6.9,
          6.9,
          6.900000000000002,
          6.900000000000002,
          6.900000000000002,
          6.900000000000002,
          6.900000000000002,
          6.900000000000002,
          6.900000000000002,
          6.8999999999999995,
          6.8999999999999995,
          6.8999999999999995,
          6.8999999999999995,
          6.8999999999999995,
          6.8999999999999995,
          6.8999999999999995,
          6.9,
          6.9,
          6.9,
          6.9,
          6.9,
          6.9,
          6.9,
          6.9,
          6.9,
          6.9,
          6.9,
          6.9,
          6.9,
          6.9,
          6.900000000000002,
          6.900000000000002,
          6.900000000000002,
          6.900000000000002,
          6.900000000000002,
          6.900000000000002,
          6.900000000000002,
          6.8999999999999995,
          6.8999999999999995,
          6.8999999999999995,
          6.8999999999999995,
          6.8999999999999995,
          6.8999999999999995,
          6.8999999999999995,
          6.9,
          6.9,
          6.9,
          6.9,
          6.9,
          6.9,
          6.9,
          6.9,
          6.9,
          6.9,
          6.9,
          6.9,
          6.9,
          6.9,
          6.900000000000002,
          6.900000000000002,
          6.900000000000002,
          6.900000000000002,
          6.900000000000002,
          6.900000000000002,
          6.900000000000002,
          6.8999999999999995,
          6.8999999999999995,
          6.8999999999999995,
          6.8999999999999995,
          6.8999999999999995,
          6.8999999999999995,
          6.8999999999999995,
          6.8999999999999995,
          6.8999999999999995,
          6.8999999999999995,
          6.8999999999999995,
          6.8999999999999995,
          6.8999999999999995,
          6.8999999999999995,
          6.9,
          6.9,
          6.9,
          6.9,
          6.9,
          6.9,
          6.9,
          6.9,
          6.9,
          6.9,
          6.9,
          6.9,
          6.9,
          6.9,
          6.9,
          6.9,
          6.9,
          6.9,
          6.9,
          6.9,
          6.9,
          6.8999999999999995,
          6.8999999999999995,
          6.8999999999999995,
          6.8999999999999995,
          6.8999999999999995,
          6.8999999999999995,
          6.8999999999999995,
          6.8999999999999995,
          6.8999999999999995,
          6.8999999999999995,
          6.8999999999999995,
          6.8999999999999995,
          6.8999999999999995,
          6.8999999999999995,
          6.9,
          6.9,
          6.9,
          6.9,
          6.9,
          6.9,
          6.9,
          6.9,
          6.9,
          6.9,
          6.9,
          6.9,
          6.9,
          6.9,
          6.9,
          6.9,
          6.9,
          6.9,
          6.9,
          6.9,
          6.9,
          6.8999999999999995,
          6.8999999999999995,
          6.8999999999999995,
          6.8999999999999995,
          6.8999999999999995,
          6.8999999999999995,
          6.8999999999999995,
          6.9,
          6.9,
          6.9,
          6.9,
          6.9,
          6.9,
          6.9,
          6.900000000000002,
          6.900000000000002,
          6.900000000000002,
          6.900000000000002,
          6.900000000000002,
          6.900000000000002,
          6.900000000000002,
          6.900000000000002,
          6.900000000000002,
          6.900000000000002,
          6.900000000000002,
          6.900000000000002,
          6.900000000000002,
          6.900000000000002,
          6.8999999999999995,
          6.8999999999999995,
          6.8999999999999995,
          6.8999999999999995,
          6.8999999999999995,
          6.8999999999999995,
          6.8999999999999995,
          6.9,
          6.9,
          6.9,
          6.9,
          6.9,
          6.9,
          6.9,
          6.9,
          6.9,
          6.9,
          6.9,
          6.9,
          6.9,
          6.9,
          6.8999999999999995,
          6.8999999999999995,
          6.8999999999999995,
          6.8999999999999995,
          6.8999999999999995,
          6.8999999999999995,
          6.8999999999999995,
          6.8999999999999995,
          6.8999999999999995,
          6.8999999999999995,
          6.8999999999999995,
          6.8999999999999995,
          6.8999999999999995,
          6.8999999999999995,
          6.9,
          6.9,
          6.9,
          6.9,
          6.9,
          6.9,
          6.9,
          6.9,
          6.9,
          6.9,
          6.9,
          6.9,
          6.9,
          6.9,
          6.8999999999999995,
          6.8999999999999995,
          6.8999999999999995,
          6.8999999999999995,
          6.8999999999999995,
          6.8999999999999995,
          6.8999999999999995,
          6.8999999999999995,
          6.8999999999999995,
          6.8999999999999995,
          6.8999999999999995,
          6.8999999999999995,
          6.8999999999999995,
          6.8999999999999995,
          6.9,
          6.9,
          6.9,
          6.9,
          6.9,
          6.9,
          6.9,
          6.900000000000002,
          6.900000000000002,
          6.900000000000002,
          6.900000000000002,
          6.900000000000002,
          6.900000000000002,
          6.900000000000002,
          6.9,
          6.9,
          6.9,
          6.9,
          6.9,
          6.9,
          6.9,
          6.9,
          6.9,
          6.9,
          6.9,
          6.9,
          6.9,
          6.9,
          6.8999999999999995,
          6.8999999999999995,
          6.8999999999999995,
          6.8999999999999995,
          6.8999999999999995,
          6.8999999999999995,
          6.8999999999999995,
          6.9
         ]
        }
       ],
       "layout": {
        "font": {
         "color": "black",
         "family": "Arial",
         "size": 18
        },
        "hovermode": "x unified",
        "legend": {
         "orientation": "h",
         "x": 0.5,
         "xanchor": "center",
         "y": -0.5,
         "yanchor": "bottom"
        },
        "paper_bgcolor": "rgba(255, 255, 255, 1)",
        "plot_bgcolor": "rgba(255, 255, 255, 1)",
        "template": {
         "data": {
          "bar": [
           {
            "error_x": {
             "color": "#2a3f5f"
            },
            "error_y": {
             "color": "#2a3f5f"
            },
            "marker": {
             "line": {
              "color": "white",
              "width": 0.5
             }
            },
            "type": "bar"
           }
          ],
          "barpolar": [
           {
            "marker": {
             "line": {
              "color": "white",
              "width": 0.5
             }
            },
            "type": "barpolar"
           }
          ],
          "carpet": [
           {
            "aaxis": {
             "endlinecolor": "#2a3f5f",
             "gridcolor": "#C8D4E3",
             "linecolor": "#C8D4E3",
             "minorgridcolor": "#C8D4E3",
             "startlinecolor": "#2a3f5f"
            },
            "baxis": {
             "endlinecolor": "#2a3f5f",
             "gridcolor": "#C8D4E3",
             "linecolor": "#C8D4E3",
             "minorgridcolor": "#C8D4E3",
             "startlinecolor": "#2a3f5f"
            },
            "type": "carpet"
           }
          ],
          "choropleth": [
           {
            "colorbar": {
             "outlinewidth": 0,
             "ticks": ""
            },
            "type": "choropleth"
           }
          ],
          "contour": [
           {
            "colorbar": {
             "outlinewidth": 0,
             "ticks": ""
            },
            "colorscale": [
             [
              0,
              "#0d0887"
             ],
             [
              0.1111111111111111,
              "#46039f"
             ],
             [
              0.2222222222222222,
              "#7201a8"
             ],
             [
              0.3333333333333333,
              "#9c179e"
             ],
             [
              0.4444444444444444,
              "#bd3786"
             ],
             [
              0.5555555555555556,
              "#d8576b"
             ],
             [
              0.6666666666666666,
              "#ed7953"
             ],
             [
              0.7777777777777778,
              "#fb9f3a"
             ],
             [
              0.8888888888888888,
              "#fdca26"
             ],
             [
              1,
              "#f0f921"
             ]
            ],
            "type": "contour"
           }
          ],
          "contourcarpet": [
           {
            "colorbar": {
             "outlinewidth": 0,
             "ticks": ""
            },
            "type": "contourcarpet"
           }
          ],
          "heatmap": [
           {
            "colorbar": {
             "outlinewidth": 0,
             "ticks": ""
            },
            "colorscale": [
             [
              0,
              "#0d0887"
             ],
             [
              0.1111111111111111,
              "#46039f"
             ],
             [
              0.2222222222222222,
              "#7201a8"
             ],
             [
              0.3333333333333333,
              "#9c179e"
             ],
             [
              0.4444444444444444,
              "#bd3786"
             ],
             [
              0.5555555555555556,
              "#d8576b"
             ],
             [
              0.6666666666666666,
              "#ed7953"
             ],
             [
              0.7777777777777778,
              "#fb9f3a"
             ],
             [
              0.8888888888888888,
              "#fdca26"
             ],
             [
              1,
              "#f0f921"
             ]
            ],
            "type": "heatmap"
           }
          ],
          "heatmapgl": [
           {
            "colorbar": {
             "outlinewidth": 0,
             "ticks": ""
            },
            "colorscale": [
             [
              0,
              "#0d0887"
             ],
             [
              0.1111111111111111,
              "#46039f"
             ],
             [
              0.2222222222222222,
              "#7201a8"
             ],
             [
              0.3333333333333333,
              "#9c179e"
             ],
             [
              0.4444444444444444,
              "#bd3786"
             ],
             [
              0.5555555555555556,
              "#d8576b"
             ],
             [
              0.6666666666666666,
              "#ed7953"
             ],
             [
              0.7777777777777778,
              "#fb9f3a"
             ],
             [
              0.8888888888888888,
              "#fdca26"
             ],
             [
              1,
              "#f0f921"
             ]
            ],
            "type": "heatmapgl"
           }
          ],
          "histogram": [
           {
            "marker": {
             "colorbar": {
              "outlinewidth": 0,
              "ticks": ""
             }
            },
            "type": "histogram"
           }
          ],
          "histogram2d": [
           {
            "colorbar": {
             "outlinewidth": 0,
             "ticks": ""
            },
            "colorscale": [
             [
              0,
              "#0d0887"
             ],
             [
              0.1111111111111111,
              "#46039f"
             ],
             [
              0.2222222222222222,
              "#7201a8"
             ],
             [
              0.3333333333333333,
              "#9c179e"
             ],
             [
              0.4444444444444444,
              "#bd3786"
             ],
             [
              0.5555555555555556,
              "#d8576b"
             ],
             [
              0.6666666666666666,
              "#ed7953"
             ],
             [
              0.7777777777777778,
              "#fb9f3a"
             ],
             [
              0.8888888888888888,
              "#fdca26"
             ],
             [
              1,
              "#f0f921"
             ]
            ],
            "type": "histogram2d"
           }
          ],
          "histogram2dcontour": [
           {
            "colorbar": {
             "outlinewidth": 0,
             "ticks": ""
            },
            "colorscale": [
             [
              0,
              "#0d0887"
             ],
             [
              0.1111111111111111,
              "#46039f"
             ],
             [
              0.2222222222222222,
              "#7201a8"
             ],
             [
              0.3333333333333333,
              "#9c179e"
             ],
             [
              0.4444444444444444,
              "#bd3786"
             ],
             [
              0.5555555555555556,
              "#d8576b"
             ],
             [
              0.6666666666666666,
              "#ed7953"
             ],
             [
              0.7777777777777778,
              "#fb9f3a"
             ],
             [
              0.8888888888888888,
              "#fdca26"
             ],
             [
              1,
              "#f0f921"
             ]
            ],
            "type": "histogram2dcontour"
           }
          ],
          "mesh3d": [
           {
            "colorbar": {
             "outlinewidth": 0,
             "ticks": ""
            },
            "type": "mesh3d"
           }
          ],
          "parcoords": [
           {
            "line": {
             "colorbar": {
              "outlinewidth": 0,
              "ticks": ""
             }
            },
            "type": "parcoords"
           }
          ],
          "pie": [
           {
            "automargin": true,
            "type": "pie"
           }
          ],
          "scatter": [
           {
            "marker": {
             "colorbar": {
              "outlinewidth": 0,
              "ticks": ""
             }
            },
            "type": "scatter"
           }
          ],
          "scatter3d": [
           {
            "line": {
             "colorbar": {
              "outlinewidth": 0,
              "ticks": ""
             }
            },
            "marker": {
             "colorbar": {
              "outlinewidth": 0,
              "ticks": ""
             }
            },
            "type": "scatter3d"
           }
          ],
          "scattercarpet": [
           {
            "marker": {
             "colorbar": {
              "outlinewidth": 0,
              "ticks": ""
             }
            },
            "type": "scattercarpet"
           }
          ],
          "scattergeo": [
           {
            "marker": {
             "colorbar": {
              "outlinewidth": 0,
              "ticks": ""
             }
            },
            "type": "scattergeo"
           }
          ],
          "scattergl": [
           {
            "marker": {
             "colorbar": {
              "outlinewidth": 0,
              "ticks": ""
             }
            },
            "type": "scattergl"
           }
          ],
          "scattermapbox": [
           {
            "marker": {
             "colorbar": {
              "outlinewidth": 0,
              "ticks": ""
             }
            },
            "type": "scattermapbox"
           }
          ],
          "scatterpolar": [
           {
            "marker": {
             "colorbar": {
              "outlinewidth": 0,
              "ticks": ""
             }
            },
            "type": "scatterpolar"
           }
          ],
          "scatterpolargl": [
           {
            "marker": {
             "colorbar": {
              "outlinewidth": 0,
              "ticks": ""
             }
            },
            "type": "scatterpolargl"
           }
          ],
          "scatterternary": [
           {
            "marker": {
             "colorbar": {
              "outlinewidth": 0,
              "ticks": ""
             }
            },
            "type": "scatterternary"
           }
          ],
          "surface": [
           {
            "colorbar": {
             "outlinewidth": 0,
             "ticks": ""
            },
            "colorscale": [
             [
              0,
              "#0d0887"
             ],
             [
              0.1111111111111111,
              "#46039f"
             ],
             [
              0.2222222222222222,
              "#7201a8"
             ],
             [
              0.3333333333333333,
              "#9c179e"
             ],
             [
              0.4444444444444444,
              "#bd3786"
             ],
             [
              0.5555555555555556,
              "#d8576b"
             ],
             [
              0.6666666666666666,
              "#ed7953"
             ],
             [
              0.7777777777777778,
              "#fb9f3a"
             ],
             [
              0.8888888888888888,
              "#fdca26"
             ],
             [
              1,
              "#f0f921"
             ]
            ],
            "type": "surface"
           }
          ],
          "table": [
           {
            "cells": {
             "fill": {
              "color": "#EBF0F8"
             },
             "line": {
              "color": "white"
             }
            },
            "header": {
             "fill": {
              "color": "#C8D4E3"
             },
             "line": {
              "color": "white"
             }
            },
            "type": "table"
           }
          ]
         },
         "layout": {
          "annotationdefaults": {
           "arrowcolor": "#2a3f5f",
           "arrowhead": 0,
           "arrowwidth": 1
          },
          "autotypenumbers": "strict",
          "coloraxis": {
           "colorbar": {
            "outlinewidth": 0,
            "ticks": ""
           }
          },
          "colorscale": {
           "diverging": [
            [
             0,
             "#8e0152"
            ],
            [
             0.1,
             "#c51b7d"
            ],
            [
             0.2,
             "#de77ae"
            ],
            [
             0.3,
             "#f1b6da"
            ],
            [
             0.4,
             "#fde0ef"
            ],
            [
             0.5,
             "#f7f7f7"
            ],
            [
             0.6,
             "#e6f5d0"
            ],
            [
             0.7,
             "#b8e186"
            ],
            [
             0.8,
             "#7fbc41"
            ],
            [
             0.9,
             "#4d9221"
            ],
            [
             1,
             "#276419"
            ]
           ],
           "sequential": [
            [
             0,
             "#0d0887"
            ],
            [
             0.1111111111111111,
             "#46039f"
            ],
            [
             0.2222222222222222,
             "#7201a8"
            ],
            [
             0.3333333333333333,
             "#9c179e"
            ],
            [
             0.4444444444444444,
             "#bd3786"
            ],
            [
             0.5555555555555556,
             "#d8576b"
            ],
            [
             0.6666666666666666,
             "#ed7953"
            ],
            [
             0.7777777777777778,
             "#fb9f3a"
            ],
            [
             0.8888888888888888,
             "#fdca26"
            ],
            [
             1,
             "#f0f921"
            ]
           ],
           "sequentialminus": [
            [
             0,
             "#0d0887"
            ],
            [
             0.1111111111111111,
             "#46039f"
            ],
            [
             0.2222222222222222,
             "#7201a8"
            ],
            [
             0.3333333333333333,
             "#9c179e"
            ],
            [
             0.4444444444444444,
             "#bd3786"
            ],
            [
             0.5555555555555556,
             "#d8576b"
            ],
            [
             0.6666666666666666,
             "#ed7953"
            ],
            [
             0.7777777777777778,
             "#fb9f3a"
            ],
            [
             0.8888888888888888,
             "#fdca26"
            ],
            [
             1,
             "#f0f921"
            ]
           ]
          },
          "colorway": [
           "#636efa",
           "#EF553B",
           "#00cc96",
           "#ab63fa",
           "#FFA15A",
           "#19d3f3",
           "#FF6692",
           "#B6E880",
           "#FF97FF",
           "#FECB52"
          ],
          "font": {
           "color": "#2a3f5f"
          },
          "geo": {
           "bgcolor": "white",
           "lakecolor": "white",
           "landcolor": "white",
           "showlakes": true,
           "showland": true,
           "subunitcolor": "#C8D4E3"
          },
          "hoverlabel": {
           "align": "left"
          },
          "hovermode": "closest",
          "mapbox": {
           "style": "light"
          },
          "paper_bgcolor": "white",
          "plot_bgcolor": "white",
          "polar": {
           "angularaxis": {
            "gridcolor": "#EBF0F8",
            "linecolor": "#EBF0F8",
            "ticks": ""
           },
           "bgcolor": "white",
           "radialaxis": {
            "gridcolor": "#EBF0F8",
            "linecolor": "#EBF0F8",
            "ticks": ""
           }
          },
          "scene": {
           "xaxis": {
            "backgroundcolor": "white",
            "gridcolor": "#DFE8F3",
            "gridwidth": 2,
            "linecolor": "#EBF0F8",
            "showbackground": true,
            "ticks": "",
            "zerolinecolor": "#EBF0F8"
           },
           "yaxis": {
            "backgroundcolor": "white",
            "gridcolor": "#DFE8F3",
            "gridwidth": 2,
            "linecolor": "#EBF0F8",
            "showbackground": true,
            "ticks": "",
            "zerolinecolor": "#EBF0F8"
           },
           "zaxis": {
            "backgroundcolor": "white",
            "gridcolor": "#DFE8F3",
            "gridwidth": 2,
            "linecolor": "#EBF0F8",
            "showbackground": true,
            "ticks": "",
            "zerolinecolor": "#EBF0F8"
           }
          },
          "shapedefaults": {
           "line": {
            "color": "#2a3f5f"
           }
          },
          "ternary": {
           "aaxis": {
            "gridcolor": "#DFE8F3",
            "linecolor": "#A2B1C6",
            "ticks": ""
           },
           "baxis": {
            "gridcolor": "#DFE8F3",
            "linecolor": "#A2B1C6",
            "ticks": ""
           },
           "bgcolor": "white",
           "caxis": {
            "gridcolor": "#DFE8F3",
            "linecolor": "#A2B1C6",
            "ticks": ""
           }
          },
          "title": {
           "x": 0.05
          },
          "xaxis": {
           "automargin": true,
           "gridcolor": "#EBF0F8",
           "linecolor": "#EBF0F8",
           "ticks": "",
           "title": {
            "standoff": 15
           },
           "zerolinecolor": "#EBF0F8",
           "zerolinewidth": 2
          },
          "yaxis": {
           "automargin": true,
           "gridcolor": "#EBF0F8",
           "linecolor": "#EBF0F8",
           "ticks": "",
           "title": {
            "standoff": 15
           },
           "zerolinecolor": "#EBF0F8",
           "zerolinewidth": 2
          }
         }
        },
        "title": {
         "text": "Agent-specific Yield %",
         "x": 0.5,
         "xanchor": "center",
         "y": 0.9,
         "yanchor": "top"
        },
        "xaxis": {
         "title": {
          "text": "Timestep"
         }
        },
        "yaxis": {
         "title": {
          "text": "Yield %"
         }
        }
       }
      }
     },
     "metadata": {},
     "output_type": "display_data"
    }
   ],
   "source": [
    "fig = visualizations.plot_yield_pct(\n",
    "    df, init_agent_eth_alloc\n",
    ")\n",
    "pio.show(fig)"
   ]
  },
  {
   "cell_type": "code",
   "execution_count": null,
   "metadata": {},
   "outputs": [],
   "source": []
  }
 ],
 "metadata": {
  "kernelspec": {
   "display_name": "venv",
   "language": "python",
   "name": "python3"
  },
  "language_info": {
   "codemirror_mode": {
    "name": "ipython",
    "version": 3
   },
   "file_extension": ".py",
   "mimetype": "text/x-python",
   "name": "python",
   "nbconvert_exporter": "python",
   "pygments_lexer": "ipython3",
   "version": "3.9.6"
  }
 },
 "nbformat": 4,
 "nbformat_minor": 2
}
